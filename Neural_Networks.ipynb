{
  "nbformat": 4,
  "nbformat_minor": 0,
  "metadata": {
    "colab": {
      "provenance": [],
      "collapsed_sections": []
    },
    "kernelspec": {
      "name": "python3",
      "display_name": "Python 3"
    },
    "language_info": {
      "name": "python"
    },
    "accelerator": "GPU"
  },
  "cells": [
    {
      "cell_type": "code",
      "source": [
        "import numpy as np\n",
        "import pandas as pd\n",
        "import datetime as dt\n",
        "import seaborn as sns\n",
        "import sklearn.metrics as metrics\n",
        "import matplotlib.pyplot as plt\n",
        "from sklearn.preprocessing import StandardScaler\n",
        "from sklearn.model_selection import train_test_split\n",
        "from sklearn.ensemble import RandomForestRegressor"
      ],
      "metadata": {
        "id": "PIxpFQi9HIRq"
      },
      "execution_count": null,
      "outputs": []
    },
    {
      "cell_type": "code",
      "execution_count": null,
      "metadata": {
        "id": "Ld4xpNTLGVn8"
      },
      "outputs": [],
      "source": [
        "df=pd.read_csv('data_2.csv.zip')"
      ]
    },
    {
      "cell_type": "code",
      "source": [
        "pd.set_option('display.max_columns', None)\n",
        "pd.set_option('display.max_rows', None)"
      ],
      "metadata": {
        "id": "co2t7vTlHWZH"
      },
      "execution_count": null,
      "outputs": []
    },
    {
      "cell_type": "code",
      "source": [
        "df.head()"
      ],
      "metadata": {
        "id": "PTDDG9sRHO8W",
        "colab": {
          "base_uri": "https://localhost:8080/",
          "height": 357
        },
        "outputId": "9cc719c5-4488-4592-e209-876db07e0fd8"
      },
      "execution_count": null,
      "outputs": [
        {
          "output_type": "execute_result",
          "data": {
            "text/plain": [
              "   market_id           created_at actual_delivery_time  \\\n",
              "0        1.0  2015-02-06 22:24:17  2015-02-06 23:11:17   \n",
              "1        2.0  2015-02-10 21:49:25  2015-02-10 22:33:25   \n",
              "2        2.0  2015-02-16 00:11:35  2015-02-16 01:06:35   \n",
              "3        1.0  2015-02-12 03:36:46  2015-02-12 04:35:46   \n",
              "4        1.0  2015-01-27 02:12:36  2015-01-27 02:58:36   \n",
              "\n",
              "   store_primary_category  order_protocol  total_items  subtotal  \\\n",
              "0                       4             1.0            4      3441   \n",
              "1                      46             2.0            1      1900   \n",
              "2                      36             3.0            4      4771   \n",
              "3                      38             1.0            1      1525   \n",
              "4                      38             1.0            2      3620   \n",
              "\n",
              "   num_distinct_items  min_item_price  max_item_price  total_onshift_dashers  \\\n",
              "0                   4             557            1239                   33.0   \n",
              "1                   1            1400            1400                    1.0   \n",
              "2                   3             820            1604                    8.0   \n",
              "3                   1            1525            1525                    5.0   \n",
              "4                   2            1425            2195                    5.0   \n",
              "\n",
              "   total_busy_dashers  total_outstanding_orders  \\\n",
              "0                14.0                      21.0   \n",
              "1                 2.0                       2.0   \n",
              "2                 6.0                      18.0   \n",
              "3                 6.0                       8.0   \n",
              "4                 5.0                       7.0   \n",
              "\n",
              "   estimated_store_to_consumer_driving_duration  \n",
              "0                                         861.0  \n",
              "1                                         690.0  \n",
              "2                                         289.0  \n",
              "3                                         795.0  \n",
              "4                                         205.0  "
            ],
            "text/html": [
              "\n",
              "  <div id=\"df-679e7684-246b-4a46-8c17-150e4164369c\">\n",
              "    <div class=\"colab-df-container\">\n",
              "      <div>\n",
              "<style scoped>\n",
              "    .dataframe tbody tr th:only-of-type {\n",
              "        vertical-align: middle;\n",
              "    }\n",
              "\n",
              "    .dataframe tbody tr th {\n",
              "        vertical-align: top;\n",
              "    }\n",
              "\n",
              "    .dataframe thead th {\n",
              "        text-align: right;\n",
              "    }\n",
              "</style>\n",
              "<table border=\"1\" class=\"dataframe\">\n",
              "  <thead>\n",
              "    <tr style=\"text-align: right;\">\n",
              "      <th></th>\n",
              "      <th>market_id</th>\n",
              "      <th>created_at</th>\n",
              "      <th>actual_delivery_time</th>\n",
              "      <th>store_primary_category</th>\n",
              "      <th>order_protocol</th>\n",
              "      <th>total_items</th>\n",
              "      <th>subtotal</th>\n",
              "      <th>num_distinct_items</th>\n",
              "      <th>min_item_price</th>\n",
              "      <th>max_item_price</th>\n",
              "      <th>total_onshift_dashers</th>\n",
              "      <th>total_busy_dashers</th>\n",
              "      <th>total_outstanding_orders</th>\n",
              "      <th>estimated_store_to_consumer_driving_duration</th>\n",
              "    </tr>\n",
              "  </thead>\n",
              "  <tbody>\n",
              "    <tr>\n",
              "      <th>0</th>\n",
              "      <td>1.0</td>\n",
              "      <td>2015-02-06 22:24:17</td>\n",
              "      <td>2015-02-06 23:11:17</td>\n",
              "      <td>4</td>\n",
              "      <td>1.0</td>\n",
              "      <td>4</td>\n",
              "      <td>3441</td>\n",
              "      <td>4</td>\n",
              "      <td>557</td>\n",
              "      <td>1239</td>\n",
              "      <td>33.0</td>\n",
              "      <td>14.0</td>\n",
              "      <td>21.0</td>\n",
              "      <td>861.0</td>\n",
              "    </tr>\n",
              "    <tr>\n",
              "      <th>1</th>\n",
              "      <td>2.0</td>\n",
              "      <td>2015-02-10 21:49:25</td>\n",
              "      <td>2015-02-10 22:33:25</td>\n",
              "      <td>46</td>\n",
              "      <td>2.0</td>\n",
              "      <td>1</td>\n",
              "      <td>1900</td>\n",
              "      <td>1</td>\n",
              "      <td>1400</td>\n",
              "      <td>1400</td>\n",
              "      <td>1.0</td>\n",
              "      <td>2.0</td>\n",
              "      <td>2.0</td>\n",
              "      <td>690.0</td>\n",
              "    </tr>\n",
              "    <tr>\n",
              "      <th>2</th>\n",
              "      <td>2.0</td>\n",
              "      <td>2015-02-16 00:11:35</td>\n",
              "      <td>2015-02-16 01:06:35</td>\n",
              "      <td>36</td>\n",
              "      <td>3.0</td>\n",
              "      <td>4</td>\n",
              "      <td>4771</td>\n",
              "      <td>3</td>\n",
              "      <td>820</td>\n",
              "      <td>1604</td>\n",
              "      <td>8.0</td>\n",
              "      <td>6.0</td>\n",
              "      <td>18.0</td>\n",
              "      <td>289.0</td>\n",
              "    </tr>\n",
              "    <tr>\n",
              "      <th>3</th>\n",
              "      <td>1.0</td>\n",
              "      <td>2015-02-12 03:36:46</td>\n",
              "      <td>2015-02-12 04:35:46</td>\n",
              "      <td>38</td>\n",
              "      <td>1.0</td>\n",
              "      <td>1</td>\n",
              "      <td>1525</td>\n",
              "      <td>1</td>\n",
              "      <td>1525</td>\n",
              "      <td>1525</td>\n",
              "      <td>5.0</td>\n",
              "      <td>6.0</td>\n",
              "      <td>8.0</td>\n",
              "      <td>795.0</td>\n",
              "    </tr>\n",
              "    <tr>\n",
              "      <th>4</th>\n",
              "      <td>1.0</td>\n",
              "      <td>2015-01-27 02:12:36</td>\n",
              "      <td>2015-01-27 02:58:36</td>\n",
              "      <td>38</td>\n",
              "      <td>1.0</td>\n",
              "      <td>2</td>\n",
              "      <td>3620</td>\n",
              "      <td>2</td>\n",
              "      <td>1425</td>\n",
              "      <td>2195</td>\n",
              "      <td>5.0</td>\n",
              "      <td>5.0</td>\n",
              "      <td>7.0</td>\n",
              "      <td>205.0</td>\n",
              "    </tr>\n",
              "  </tbody>\n",
              "</table>\n",
              "</div>\n",
              "      <button class=\"colab-df-convert\" onclick=\"convertToInteractive('df-679e7684-246b-4a46-8c17-150e4164369c')\"\n",
              "              title=\"Convert this dataframe to an interactive table.\"\n",
              "              style=\"display:none;\">\n",
              "        \n",
              "  <svg xmlns=\"http://www.w3.org/2000/svg\" height=\"24px\"viewBox=\"0 0 24 24\"\n",
              "       width=\"24px\">\n",
              "    <path d=\"M0 0h24v24H0V0z\" fill=\"none\"/>\n",
              "    <path d=\"M18.56 5.44l.94 2.06.94-2.06 2.06-.94-2.06-.94-.94-2.06-.94 2.06-2.06.94zm-11 1L8.5 8.5l.94-2.06 2.06-.94-2.06-.94L8.5 2.5l-.94 2.06-2.06.94zm10 10l.94 2.06.94-2.06 2.06-.94-2.06-.94-.94-2.06-.94 2.06-2.06.94z\"/><path d=\"M17.41 7.96l-1.37-1.37c-.4-.4-.92-.59-1.43-.59-.52 0-1.04.2-1.43.59L10.3 9.45l-7.72 7.72c-.78.78-.78 2.05 0 2.83L4 21.41c.39.39.9.59 1.41.59.51 0 1.02-.2 1.41-.59l7.78-7.78 2.81-2.81c.8-.78.8-2.07 0-2.86zM5.41 20L4 18.59l7.72-7.72 1.47 1.35L5.41 20z\"/>\n",
              "  </svg>\n",
              "      </button>\n",
              "      \n",
              "  <style>\n",
              "    .colab-df-container {\n",
              "      display:flex;\n",
              "      flex-wrap:wrap;\n",
              "      gap: 12px;\n",
              "    }\n",
              "\n",
              "    .colab-df-convert {\n",
              "      background-color: #E8F0FE;\n",
              "      border: none;\n",
              "      border-radius: 50%;\n",
              "      cursor: pointer;\n",
              "      display: none;\n",
              "      fill: #1967D2;\n",
              "      height: 32px;\n",
              "      padding: 0 0 0 0;\n",
              "      width: 32px;\n",
              "    }\n",
              "\n",
              "    .colab-df-convert:hover {\n",
              "      background-color: #E2EBFA;\n",
              "      box-shadow: 0px 1px 2px rgba(60, 64, 67, 0.3), 0px 1px 3px 1px rgba(60, 64, 67, 0.15);\n",
              "      fill: #174EA6;\n",
              "    }\n",
              "\n",
              "    [theme=dark] .colab-df-convert {\n",
              "      background-color: #3B4455;\n",
              "      fill: #D2E3FC;\n",
              "    }\n",
              "\n",
              "    [theme=dark] .colab-df-convert:hover {\n",
              "      background-color: #434B5C;\n",
              "      box-shadow: 0px 1px 3px 1px rgba(0, 0, 0, 0.15);\n",
              "      filter: drop-shadow(0px 1px 2px rgba(0, 0, 0, 0.3));\n",
              "      fill: #FFFFFF;\n",
              "    }\n",
              "  </style>\n",
              "\n",
              "      <script>\n",
              "        const buttonEl =\n",
              "          document.querySelector('#df-679e7684-246b-4a46-8c17-150e4164369c button.colab-df-convert');\n",
              "        buttonEl.style.display =\n",
              "          google.colab.kernel.accessAllowed ? 'block' : 'none';\n",
              "\n",
              "        async function convertToInteractive(key) {\n",
              "          const element = document.querySelector('#df-679e7684-246b-4a46-8c17-150e4164369c');\n",
              "          const dataTable =\n",
              "            await google.colab.kernel.invokeFunction('convertToInteractive',\n",
              "                                                     [key], {});\n",
              "          if (!dataTable) return;\n",
              "\n",
              "          const docLinkHtml = 'Like what you see? Visit the ' +\n",
              "            '<a target=\"_blank\" href=https://colab.research.google.com/notebooks/data_table.ipynb>data table notebook</a>'\n",
              "            + ' to learn more about interactive tables.';\n",
              "          element.innerHTML = '';\n",
              "          dataTable['output_type'] = 'display_data';\n",
              "          await google.colab.output.renderOutput(dataTable, element);\n",
              "          const docLink = document.createElement('div');\n",
              "          docLink.innerHTML = docLinkHtml;\n",
              "          element.appendChild(docLink);\n",
              "        }\n",
              "      </script>\n",
              "    </div>\n",
              "  </div>\n",
              "  "
            ]
          },
          "metadata": {},
          "execution_count": 37
        }
      ]
    },
    {
      "cell_type": "code",
      "source": [
        "df.info()"
      ],
      "metadata": {
        "id": "wuaN81w0x2b6",
        "colab": {
          "base_uri": "https://localhost:8080/"
        },
        "outputId": "8f158eaf-564f-4910-d6fd-8b209626fba4"
      },
      "execution_count": null,
      "outputs": [
        {
          "output_type": "stream",
          "name": "stdout",
          "text": [
            "<class 'pandas.core.frame.DataFrame'>\n",
            "RangeIndex: 175777 entries, 0 to 175776\n",
            "Data columns (total 14 columns):\n",
            " #   Column                                        Non-Null Count   Dtype  \n",
            "---  ------                                        --------------   -----  \n",
            " 0   market_id                                     175777 non-null  float64\n",
            " 1   created_at                                    175777 non-null  object \n",
            " 2   actual_delivery_time                          175777 non-null  object \n",
            " 3   store_primary_category                        175777 non-null  int64  \n",
            " 4   order_protocol                                175777 non-null  float64\n",
            " 5   total_items                                   175777 non-null  int64  \n",
            " 6   subtotal                                      175777 non-null  int64  \n",
            " 7   num_distinct_items                            175777 non-null  int64  \n",
            " 8   min_item_price                                175777 non-null  int64  \n",
            " 9   max_item_price                                175777 non-null  int64  \n",
            " 10  total_onshift_dashers                         175777 non-null  float64\n",
            " 11  total_busy_dashers                            175777 non-null  float64\n",
            " 12  total_outstanding_orders                      175777 non-null  float64\n",
            " 13  estimated_store_to_consumer_driving_duration  175777 non-null  float64\n",
            "dtypes: float64(6), int64(6), object(2)\n",
            "memory usage: 18.8+ MB\n"
          ]
        }
      ]
    },
    {
      "cell_type": "code",
      "source": [
        "df.nunique()"
      ],
      "metadata": {
        "colab": {
          "base_uri": "https://localhost:8080/"
        },
        "id": "52fJTCnKJc6b",
        "outputId": "ff4e124a-7e0b-4b70-e738-7e403089fe43"
      },
      "execution_count": null,
      "outputs": [
        {
          "output_type": "execute_result",
          "data": {
            "text/plain": [
              "market_id                                            6\n",
              "created_at                                      162649\n",
              "actual_delivery_time                            160344\n",
              "store_primary_category                              73\n",
              "order_protocol                                       7\n",
              "total_items                                         54\n",
              "subtotal                                          8182\n",
              "num_distinct_items                                  20\n",
              "min_item_price                                    2251\n",
              "max_item_price                                    2585\n",
              "total_onshift_dashers                              172\n",
              "total_busy_dashers                                 158\n",
              "total_outstanding_orders                           281\n",
              "estimated_store_to_consumer_driving_duration      1318\n",
              "dtype: int64"
            ]
          },
          "metadata": {},
          "execution_count": 39
        }
      ]
    },
    {
      "cell_type": "code",
      "source": [
        "df.describe().T"
      ],
      "metadata": {
        "colab": {
          "base_uri": "https://localhost:8080/",
          "height": 426
        },
        "id": "EIjK8cOFInDf",
        "outputId": "35232e16-c03c-4cc1-9d5b-b097d97107af"
      },
      "execution_count": null,
      "outputs": [
        {
          "output_type": "execute_result",
          "data": {
            "text/plain": [
              "                                                 count         mean  \\\n",
              "market_id                                     175777.0     2.743726   \n",
              "store_primary_category                        175777.0    35.887949   \n",
              "order_protocol                                175777.0     2.911752   \n",
              "total_items                                   175777.0     3.204976   \n",
              "subtotal                                      175777.0  2697.111147   \n",
              "num_distinct_items                            175777.0     2.675060   \n",
              "min_item_price                                175777.0   684.965433   \n",
              "max_item_price                                175777.0  1160.158616   \n",
              "total_onshift_dashers                         175777.0    44.918664   \n",
              "total_busy_dashers                            175777.0    41.861381   \n",
              "total_outstanding_orders                      175777.0    58.230115   \n",
              "estimated_store_to_consumer_driving_duration  175777.0   546.077240   \n",
              "\n",
              "                                                      std   min     25%  \\\n",
              "market_id                                        1.330963   1.0     2.0   \n",
              "store_primary_category                          20.728254   0.0    18.0   \n",
              "order_protocol                                   1.513128   1.0     1.0   \n",
              "total_items                                      2.674055   1.0     2.0   \n",
              "subtotal                                      1828.554893   0.0  1412.0   \n",
              "num_distinct_items                               1.625681   1.0     1.0   \n",
              "min_item_price                                 519.882924 -86.0   299.0   \n",
              "max_item_price                                 560.828571   0.0   799.0   \n",
              "total_onshift_dashers                           34.544724  -4.0    17.0   \n",
              "total_busy_dashers                              32.168505  -5.0    15.0   \n",
              "total_outstanding_orders                        52.731043  -6.0    17.0   \n",
              "estimated_store_to_consumer_driving_duration   218.717798   0.0   384.0   \n",
              "\n",
              "                                                 50%     75%      max  \n",
              "market_id                                        2.0     4.0      6.0  \n",
              "store_primary_category                          38.0    55.0     72.0  \n",
              "order_protocol                                   3.0     4.0      7.0  \n",
              "total_items                                      3.0     4.0    411.0  \n",
              "subtotal                                      2224.0  3410.0  26800.0  \n",
              "num_distinct_items                               2.0     3.0     20.0  \n",
              "min_item_price                                 595.0   942.0  14700.0  \n",
              "max_item_price                                1095.0  1395.0  14700.0  \n",
              "total_onshift_dashers                           37.0    66.0    171.0  \n",
              "total_busy_dashers                              35.0    63.0    154.0  \n",
              "total_outstanding_orders                        41.0    85.0    285.0  \n",
              "estimated_store_to_consumer_driving_duration   544.0   703.0   2088.0  "
            ],
            "text/html": [
              "\n",
              "  <div id=\"df-5af96b68-21ad-45d9-b189-17dbbbe8cfe6\">\n",
              "    <div class=\"colab-df-container\">\n",
              "      <div>\n",
              "<style scoped>\n",
              "    .dataframe tbody tr th:only-of-type {\n",
              "        vertical-align: middle;\n",
              "    }\n",
              "\n",
              "    .dataframe tbody tr th {\n",
              "        vertical-align: top;\n",
              "    }\n",
              "\n",
              "    .dataframe thead th {\n",
              "        text-align: right;\n",
              "    }\n",
              "</style>\n",
              "<table border=\"1\" class=\"dataframe\">\n",
              "  <thead>\n",
              "    <tr style=\"text-align: right;\">\n",
              "      <th></th>\n",
              "      <th>count</th>\n",
              "      <th>mean</th>\n",
              "      <th>std</th>\n",
              "      <th>min</th>\n",
              "      <th>25%</th>\n",
              "      <th>50%</th>\n",
              "      <th>75%</th>\n",
              "      <th>max</th>\n",
              "    </tr>\n",
              "  </thead>\n",
              "  <tbody>\n",
              "    <tr>\n",
              "      <th>market_id</th>\n",
              "      <td>175777.0</td>\n",
              "      <td>2.743726</td>\n",
              "      <td>1.330963</td>\n",
              "      <td>1.0</td>\n",
              "      <td>2.0</td>\n",
              "      <td>2.0</td>\n",
              "      <td>4.0</td>\n",
              "      <td>6.0</td>\n",
              "    </tr>\n",
              "    <tr>\n",
              "      <th>store_primary_category</th>\n",
              "      <td>175777.0</td>\n",
              "      <td>35.887949</td>\n",
              "      <td>20.728254</td>\n",
              "      <td>0.0</td>\n",
              "      <td>18.0</td>\n",
              "      <td>38.0</td>\n",
              "      <td>55.0</td>\n",
              "      <td>72.0</td>\n",
              "    </tr>\n",
              "    <tr>\n",
              "      <th>order_protocol</th>\n",
              "      <td>175777.0</td>\n",
              "      <td>2.911752</td>\n",
              "      <td>1.513128</td>\n",
              "      <td>1.0</td>\n",
              "      <td>1.0</td>\n",
              "      <td>3.0</td>\n",
              "      <td>4.0</td>\n",
              "      <td>7.0</td>\n",
              "    </tr>\n",
              "    <tr>\n",
              "      <th>total_items</th>\n",
              "      <td>175777.0</td>\n",
              "      <td>3.204976</td>\n",
              "      <td>2.674055</td>\n",
              "      <td>1.0</td>\n",
              "      <td>2.0</td>\n",
              "      <td>3.0</td>\n",
              "      <td>4.0</td>\n",
              "      <td>411.0</td>\n",
              "    </tr>\n",
              "    <tr>\n",
              "      <th>subtotal</th>\n",
              "      <td>175777.0</td>\n",
              "      <td>2697.111147</td>\n",
              "      <td>1828.554893</td>\n",
              "      <td>0.0</td>\n",
              "      <td>1412.0</td>\n",
              "      <td>2224.0</td>\n",
              "      <td>3410.0</td>\n",
              "      <td>26800.0</td>\n",
              "    </tr>\n",
              "    <tr>\n",
              "      <th>num_distinct_items</th>\n",
              "      <td>175777.0</td>\n",
              "      <td>2.675060</td>\n",
              "      <td>1.625681</td>\n",
              "      <td>1.0</td>\n",
              "      <td>1.0</td>\n",
              "      <td>2.0</td>\n",
              "      <td>3.0</td>\n",
              "      <td>20.0</td>\n",
              "    </tr>\n",
              "    <tr>\n",
              "      <th>min_item_price</th>\n",
              "      <td>175777.0</td>\n",
              "      <td>684.965433</td>\n",
              "      <td>519.882924</td>\n",
              "      <td>-86.0</td>\n",
              "      <td>299.0</td>\n",
              "      <td>595.0</td>\n",
              "      <td>942.0</td>\n",
              "      <td>14700.0</td>\n",
              "    </tr>\n",
              "    <tr>\n",
              "      <th>max_item_price</th>\n",
              "      <td>175777.0</td>\n",
              "      <td>1160.158616</td>\n",
              "      <td>560.828571</td>\n",
              "      <td>0.0</td>\n",
              "      <td>799.0</td>\n",
              "      <td>1095.0</td>\n",
              "      <td>1395.0</td>\n",
              "      <td>14700.0</td>\n",
              "    </tr>\n",
              "    <tr>\n",
              "      <th>total_onshift_dashers</th>\n",
              "      <td>175777.0</td>\n",
              "      <td>44.918664</td>\n",
              "      <td>34.544724</td>\n",
              "      <td>-4.0</td>\n",
              "      <td>17.0</td>\n",
              "      <td>37.0</td>\n",
              "      <td>66.0</td>\n",
              "      <td>171.0</td>\n",
              "    </tr>\n",
              "    <tr>\n",
              "      <th>total_busy_dashers</th>\n",
              "      <td>175777.0</td>\n",
              "      <td>41.861381</td>\n",
              "      <td>32.168505</td>\n",
              "      <td>-5.0</td>\n",
              "      <td>15.0</td>\n",
              "      <td>35.0</td>\n",
              "      <td>63.0</td>\n",
              "      <td>154.0</td>\n",
              "    </tr>\n",
              "    <tr>\n",
              "      <th>total_outstanding_orders</th>\n",
              "      <td>175777.0</td>\n",
              "      <td>58.230115</td>\n",
              "      <td>52.731043</td>\n",
              "      <td>-6.0</td>\n",
              "      <td>17.0</td>\n",
              "      <td>41.0</td>\n",
              "      <td>85.0</td>\n",
              "      <td>285.0</td>\n",
              "    </tr>\n",
              "    <tr>\n",
              "      <th>estimated_store_to_consumer_driving_duration</th>\n",
              "      <td>175777.0</td>\n",
              "      <td>546.077240</td>\n",
              "      <td>218.717798</td>\n",
              "      <td>0.0</td>\n",
              "      <td>384.0</td>\n",
              "      <td>544.0</td>\n",
              "      <td>703.0</td>\n",
              "      <td>2088.0</td>\n",
              "    </tr>\n",
              "  </tbody>\n",
              "</table>\n",
              "</div>\n",
              "      <button class=\"colab-df-convert\" onclick=\"convertToInteractive('df-5af96b68-21ad-45d9-b189-17dbbbe8cfe6')\"\n",
              "              title=\"Convert this dataframe to an interactive table.\"\n",
              "              style=\"display:none;\">\n",
              "        \n",
              "  <svg xmlns=\"http://www.w3.org/2000/svg\" height=\"24px\"viewBox=\"0 0 24 24\"\n",
              "       width=\"24px\">\n",
              "    <path d=\"M0 0h24v24H0V0z\" fill=\"none\"/>\n",
              "    <path d=\"M18.56 5.44l.94 2.06.94-2.06 2.06-.94-2.06-.94-.94-2.06-.94 2.06-2.06.94zm-11 1L8.5 8.5l.94-2.06 2.06-.94-2.06-.94L8.5 2.5l-.94 2.06-2.06.94zm10 10l.94 2.06.94-2.06 2.06-.94-2.06-.94-.94-2.06-.94 2.06-2.06.94z\"/><path d=\"M17.41 7.96l-1.37-1.37c-.4-.4-.92-.59-1.43-.59-.52 0-1.04.2-1.43.59L10.3 9.45l-7.72 7.72c-.78.78-.78 2.05 0 2.83L4 21.41c.39.39.9.59 1.41.59.51 0 1.02-.2 1.41-.59l7.78-7.78 2.81-2.81c.8-.78.8-2.07 0-2.86zM5.41 20L4 18.59l7.72-7.72 1.47 1.35L5.41 20z\"/>\n",
              "  </svg>\n",
              "      </button>\n",
              "      \n",
              "  <style>\n",
              "    .colab-df-container {\n",
              "      display:flex;\n",
              "      flex-wrap:wrap;\n",
              "      gap: 12px;\n",
              "    }\n",
              "\n",
              "    .colab-df-convert {\n",
              "      background-color: #E8F0FE;\n",
              "      border: none;\n",
              "      border-radius: 50%;\n",
              "      cursor: pointer;\n",
              "      display: none;\n",
              "      fill: #1967D2;\n",
              "      height: 32px;\n",
              "      padding: 0 0 0 0;\n",
              "      width: 32px;\n",
              "    }\n",
              "\n",
              "    .colab-df-convert:hover {\n",
              "      background-color: #E2EBFA;\n",
              "      box-shadow: 0px 1px 2px rgba(60, 64, 67, 0.3), 0px 1px 3px 1px rgba(60, 64, 67, 0.15);\n",
              "      fill: #174EA6;\n",
              "    }\n",
              "\n",
              "    [theme=dark] .colab-df-convert {\n",
              "      background-color: #3B4455;\n",
              "      fill: #D2E3FC;\n",
              "    }\n",
              "\n",
              "    [theme=dark] .colab-df-convert:hover {\n",
              "      background-color: #434B5C;\n",
              "      box-shadow: 0px 1px 3px 1px rgba(0, 0, 0, 0.15);\n",
              "      filter: drop-shadow(0px 1px 2px rgba(0, 0, 0, 0.3));\n",
              "      fill: #FFFFFF;\n",
              "    }\n",
              "  </style>\n",
              "\n",
              "      <script>\n",
              "        const buttonEl =\n",
              "          document.querySelector('#df-5af96b68-21ad-45d9-b189-17dbbbe8cfe6 button.colab-df-convert');\n",
              "        buttonEl.style.display =\n",
              "          google.colab.kernel.accessAllowed ? 'block' : 'none';\n",
              "\n",
              "        async function convertToInteractive(key) {\n",
              "          const element = document.querySelector('#df-5af96b68-21ad-45d9-b189-17dbbbe8cfe6');\n",
              "          const dataTable =\n",
              "            await google.colab.kernel.invokeFunction('convertToInteractive',\n",
              "                                                     [key], {});\n",
              "          if (!dataTable) return;\n",
              "\n",
              "          const docLinkHtml = 'Like what you see? Visit the ' +\n",
              "            '<a target=\"_blank\" href=https://colab.research.google.com/notebooks/data_table.ipynb>data table notebook</a>'\n",
              "            + ' to learn more about interactive tables.';\n",
              "          element.innerHTML = '';\n",
              "          dataTable['output_type'] = 'display_data';\n",
              "          await google.colab.output.renderOutput(dataTable, element);\n",
              "          const docLink = document.createElement('div');\n",
              "          docLink.innerHTML = docLinkHtml;\n",
              "          element.appendChild(docLink);\n",
              "        }\n",
              "      </script>\n",
              "    </div>\n",
              "  </div>\n",
              "  "
            ]
          },
          "metadata": {},
          "execution_count": 40
        }
      ]
    },
    {
      "cell_type": "code",
      "source": [
        "df['created_at']=df['created_at'].astype('datetime64')\n",
        "df['actual_delivery_time']=df['actual_delivery_time'].astype('datetime64')"
      ],
      "metadata": {
        "id": "WYf14PONKAwP"
      },
      "execution_count": null,
      "outputs": []
    },
    {
      "cell_type": "code",
      "source": [
        "df.info()"
      ],
      "metadata": {
        "colab": {
          "base_uri": "https://localhost:8080/"
        },
        "id": "uesOEQd_KxbG",
        "outputId": "c83ae5ba-c429-424e-d663-3e77105f093f"
      },
      "execution_count": null,
      "outputs": [
        {
          "output_type": "stream",
          "name": "stdout",
          "text": [
            "<class 'pandas.core.frame.DataFrame'>\n",
            "RangeIndex: 175777 entries, 0 to 175776\n",
            "Data columns (total 14 columns):\n",
            " #   Column                                        Non-Null Count   Dtype         \n",
            "---  ------                                        --------------   -----         \n",
            " 0   market_id                                     175777 non-null  float64       \n",
            " 1   created_at                                    175777 non-null  datetime64[ns]\n",
            " 2   actual_delivery_time                          175777 non-null  datetime64[ns]\n",
            " 3   store_primary_category                        175777 non-null  int64         \n",
            " 4   order_protocol                                175777 non-null  float64       \n",
            " 5   total_items                                   175777 non-null  int64         \n",
            " 6   subtotal                                      175777 non-null  int64         \n",
            " 7   num_distinct_items                            175777 non-null  int64         \n",
            " 8   min_item_price                                175777 non-null  int64         \n",
            " 9   max_item_price                                175777 non-null  int64         \n",
            " 10  total_onshift_dashers                         175777 non-null  float64       \n",
            " 11  total_busy_dashers                            175777 non-null  float64       \n",
            " 12  total_outstanding_orders                      175777 non-null  float64       \n",
            " 13  estimated_store_to_consumer_driving_duration  175777 non-null  float64       \n",
            "dtypes: datetime64[ns](2), float64(6), int64(6)\n",
            "memory usage: 18.8 MB\n"
          ]
        }
      ]
    },
    {
      "cell_type": "code",
      "source": [
        "df['created_at'].describe()"
      ],
      "metadata": {
        "colab": {
          "base_uri": "https://localhost:8080/"
        },
        "id": "5mUpf4jFKDXP",
        "outputId": "aeffe28a-38e0-4c39-8540-6157c1bc0462"
      },
      "execution_count": null,
      "outputs": [
        {
          "output_type": "stream",
          "name": "stderr",
          "text": [
            "/usr/local/lib/python3.7/dist-packages/ipykernel_launcher.py:1: FutureWarning: Treating datetime data as categorical rather than numeric in `.describe` is deprecated and will be removed in a future version of pandas. Specify `datetime_is_numeric=True` to silence this warning and adopt the future behavior now.\n",
            "  \"\"\"Entry point for launching an IPython kernel.\n"
          ]
        },
        {
          "output_type": "execute_result",
          "data": {
            "text/plain": [
              "count                  175777\n",
              "unique                 162649\n",
              "top       2015-02-11 19:50:43\n",
              "freq                        6\n",
              "first     2015-01-21 15:22:03\n",
              "last      2015-02-18 06:00:44\n",
              "Name: created_at, dtype: object"
            ]
          },
          "metadata": {},
          "execution_count": 44
        }
      ]
    },
    {
      "cell_type": "code",
      "source": [
        "#calculating delivery time in seconds\n",
        "dlv_time=df['actual_delivery_time']-df['created_at']\n",
        "df['delivery_time'] = pd.to_timedelta(dlv_time)/pd.Timedelta('60s')\n",
        "df.head()"
      ],
      "metadata": {
        "id": "xBISigBDKaCs",
        "colab": {
          "base_uri": "https://localhost:8080/",
          "height": 357
        },
        "outputId": "2323fdc6-707e-4df1-9797-7a79416a8aa1"
      },
      "execution_count": null,
      "outputs": [
        {
          "output_type": "execute_result",
          "data": {
            "text/plain": [
              "   market_id          created_at actual_delivery_time  store_primary_category  \\\n",
              "0        1.0 2015-02-06 22:24:17  2015-02-06 23:11:17                       4   \n",
              "1        2.0 2015-02-10 21:49:25  2015-02-10 22:33:25                      46   \n",
              "2        2.0 2015-02-16 00:11:35  2015-02-16 01:06:35                      36   \n",
              "3        1.0 2015-02-12 03:36:46  2015-02-12 04:35:46                      38   \n",
              "4        1.0 2015-01-27 02:12:36  2015-01-27 02:58:36                      38   \n",
              "\n",
              "   order_protocol  total_items  subtotal  num_distinct_items  min_item_price  \\\n",
              "0             1.0            4      3441                   4             557   \n",
              "1             2.0            1      1900                   1            1400   \n",
              "2             3.0            4      4771                   3             820   \n",
              "3             1.0            1      1525                   1            1525   \n",
              "4             1.0            2      3620                   2            1425   \n",
              "\n",
              "   max_item_price  total_onshift_dashers  total_busy_dashers  \\\n",
              "0            1239                   33.0                14.0   \n",
              "1            1400                    1.0                 2.0   \n",
              "2            1604                    8.0                 6.0   \n",
              "3            1525                    5.0                 6.0   \n",
              "4            2195                    5.0                 5.0   \n",
              "\n",
              "   total_outstanding_orders  estimated_store_to_consumer_driving_duration  \\\n",
              "0                      21.0                                         861.0   \n",
              "1                       2.0                                         690.0   \n",
              "2                      18.0                                         289.0   \n",
              "3                       8.0                                         795.0   \n",
              "4                       7.0                                         205.0   \n",
              "\n",
              "   delivery_time  \n",
              "0           47.0  \n",
              "1           44.0  \n",
              "2           55.0  \n",
              "3           59.0  \n",
              "4           46.0  "
            ],
            "text/html": [
              "\n",
              "  <div id=\"df-53ee4044-e780-49b0-a623-db84a8d9b8f4\">\n",
              "    <div class=\"colab-df-container\">\n",
              "      <div>\n",
              "<style scoped>\n",
              "    .dataframe tbody tr th:only-of-type {\n",
              "        vertical-align: middle;\n",
              "    }\n",
              "\n",
              "    .dataframe tbody tr th {\n",
              "        vertical-align: top;\n",
              "    }\n",
              "\n",
              "    .dataframe thead th {\n",
              "        text-align: right;\n",
              "    }\n",
              "</style>\n",
              "<table border=\"1\" class=\"dataframe\">\n",
              "  <thead>\n",
              "    <tr style=\"text-align: right;\">\n",
              "      <th></th>\n",
              "      <th>market_id</th>\n",
              "      <th>created_at</th>\n",
              "      <th>actual_delivery_time</th>\n",
              "      <th>store_primary_category</th>\n",
              "      <th>order_protocol</th>\n",
              "      <th>total_items</th>\n",
              "      <th>subtotal</th>\n",
              "      <th>num_distinct_items</th>\n",
              "      <th>min_item_price</th>\n",
              "      <th>max_item_price</th>\n",
              "      <th>total_onshift_dashers</th>\n",
              "      <th>total_busy_dashers</th>\n",
              "      <th>total_outstanding_orders</th>\n",
              "      <th>estimated_store_to_consumer_driving_duration</th>\n",
              "      <th>delivery_time</th>\n",
              "    </tr>\n",
              "  </thead>\n",
              "  <tbody>\n",
              "    <tr>\n",
              "      <th>0</th>\n",
              "      <td>1.0</td>\n",
              "      <td>2015-02-06 22:24:17</td>\n",
              "      <td>2015-02-06 23:11:17</td>\n",
              "      <td>4</td>\n",
              "      <td>1.0</td>\n",
              "      <td>4</td>\n",
              "      <td>3441</td>\n",
              "      <td>4</td>\n",
              "      <td>557</td>\n",
              "      <td>1239</td>\n",
              "      <td>33.0</td>\n",
              "      <td>14.0</td>\n",
              "      <td>21.0</td>\n",
              "      <td>861.0</td>\n",
              "      <td>47.0</td>\n",
              "    </tr>\n",
              "    <tr>\n",
              "      <th>1</th>\n",
              "      <td>2.0</td>\n",
              "      <td>2015-02-10 21:49:25</td>\n",
              "      <td>2015-02-10 22:33:25</td>\n",
              "      <td>46</td>\n",
              "      <td>2.0</td>\n",
              "      <td>1</td>\n",
              "      <td>1900</td>\n",
              "      <td>1</td>\n",
              "      <td>1400</td>\n",
              "      <td>1400</td>\n",
              "      <td>1.0</td>\n",
              "      <td>2.0</td>\n",
              "      <td>2.0</td>\n",
              "      <td>690.0</td>\n",
              "      <td>44.0</td>\n",
              "    </tr>\n",
              "    <tr>\n",
              "      <th>2</th>\n",
              "      <td>2.0</td>\n",
              "      <td>2015-02-16 00:11:35</td>\n",
              "      <td>2015-02-16 01:06:35</td>\n",
              "      <td>36</td>\n",
              "      <td>3.0</td>\n",
              "      <td>4</td>\n",
              "      <td>4771</td>\n",
              "      <td>3</td>\n",
              "      <td>820</td>\n",
              "      <td>1604</td>\n",
              "      <td>8.0</td>\n",
              "      <td>6.0</td>\n",
              "      <td>18.0</td>\n",
              "      <td>289.0</td>\n",
              "      <td>55.0</td>\n",
              "    </tr>\n",
              "    <tr>\n",
              "      <th>3</th>\n",
              "      <td>1.0</td>\n",
              "      <td>2015-02-12 03:36:46</td>\n",
              "      <td>2015-02-12 04:35:46</td>\n",
              "      <td>38</td>\n",
              "      <td>1.0</td>\n",
              "      <td>1</td>\n",
              "      <td>1525</td>\n",
              "      <td>1</td>\n",
              "      <td>1525</td>\n",
              "      <td>1525</td>\n",
              "      <td>5.0</td>\n",
              "      <td>6.0</td>\n",
              "      <td>8.0</td>\n",
              "      <td>795.0</td>\n",
              "      <td>59.0</td>\n",
              "    </tr>\n",
              "    <tr>\n",
              "      <th>4</th>\n",
              "      <td>1.0</td>\n",
              "      <td>2015-01-27 02:12:36</td>\n",
              "      <td>2015-01-27 02:58:36</td>\n",
              "      <td>38</td>\n",
              "      <td>1.0</td>\n",
              "      <td>2</td>\n",
              "      <td>3620</td>\n",
              "      <td>2</td>\n",
              "      <td>1425</td>\n",
              "      <td>2195</td>\n",
              "      <td>5.0</td>\n",
              "      <td>5.0</td>\n",
              "      <td>7.0</td>\n",
              "      <td>205.0</td>\n",
              "      <td>46.0</td>\n",
              "    </tr>\n",
              "  </tbody>\n",
              "</table>\n",
              "</div>\n",
              "      <button class=\"colab-df-convert\" onclick=\"convertToInteractive('df-53ee4044-e780-49b0-a623-db84a8d9b8f4')\"\n",
              "              title=\"Convert this dataframe to an interactive table.\"\n",
              "              style=\"display:none;\">\n",
              "        \n",
              "  <svg xmlns=\"http://www.w3.org/2000/svg\" height=\"24px\"viewBox=\"0 0 24 24\"\n",
              "       width=\"24px\">\n",
              "    <path d=\"M0 0h24v24H0V0z\" fill=\"none\"/>\n",
              "    <path d=\"M18.56 5.44l.94 2.06.94-2.06 2.06-.94-2.06-.94-.94-2.06-.94 2.06-2.06.94zm-11 1L8.5 8.5l.94-2.06 2.06-.94-2.06-.94L8.5 2.5l-.94 2.06-2.06.94zm10 10l.94 2.06.94-2.06 2.06-.94-2.06-.94-.94-2.06-.94 2.06-2.06.94z\"/><path d=\"M17.41 7.96l-1.37-1.37c-.4-.4-.92-.59-1.43-.59-.52 0-1.04.2-1.43.59L10.3 9.45l-7.72 7.72c-.78.78-.78 2.05 0 2.83L4 21.41c.39.39.9.59 1.41.59.51 0 1.02-.2 1.41-.59l7.78-7.78 2.81-2.81c.8-.78.8-2.07 0-2.86zM5.41 20L4 18.59l7.72-7.72 1.47 1.35L5.41 20z\"/>\n",
              "  </svg>\n",
              "      </button>\n",
              "      \n",
              "  <style>\n",
              "    .colab-df-container {\n",
              "      display:flex;\n",
              "      flex-wrap:wrap;\n",
              "      gap: 12px;\n",
              "    }\n",
              "\n",
              "    .colab-df-convert {\n",
              "      background-color: #E8F0FE;\n",
              "      border: none;\n",
              "      border-radius: 50%;\n",
              "      cursor: pointer;\n",
              "      display: none;\n",
              "      fill: #1967D2;\n",
              "      height: 32px;\n",
              "      padding: 0 0 0 0;\n",
              "      width: 32px;\n",
              "    }\n",
              "\n",
              "    .colab-df-convert:hover {\n",
              "      background-color: #E2EBFA;\n",
              "      box-shadow: 0px 1px 2px rgba(60, 64, 67, 0.3), 0px 1px 3px 1px rgba(60, 64, 67, 0.15);\n",
              "      fill: #174EA6;\n",
              "    }\n",
              "\n",
              "    [theme=dark] .colab-df-convert {\n",
              "      background-color: #3B4455;\n",
              "      fill: #D2E3FC;\n",
              "    }\n",
              "\n",
              "    [theme=dark] .colab-df-convert:hover {\n",
              "      background-color: #434B5C;\n",
              "      box-shadow: 0px 1px 3px 1px rgba(0, 0, 0, 0.15);\n",
              "      filter: drop-shadow(0px 1px 2px rgba(0, 0, 0, 0.3));\n",
              "      fill: #FFFFFF;\n",
              "    }\n",
              "  </style>\n",
              "\n",
              "      <script>\n",
              "        const buttonEl =\n",
              "          document.querySelector('#df-53ee4044-e780-49b0-a623-db84a8d9b8f4 button.colab-df-convert');\n",
              "        buttonEl.style.display =\n",
              "          google.colab.kernel.accessAllowed ? 'block' : 'none';\n",
              "\n",
              "        async function convertToInteractive(key) {\n",
              "          const element = document.querySelector('#df-53ee4044-e780-49b0-a623-db84a8d9b8f4');\n",
              "          const dataTable =\n",
              "            await google.colab.kernel.invokeFunction('convertToInteractive',\n",
              "                                                     [key], {});\n",
              "          if (!dataTable) return;\n",
              "\n",
              "          const docLinkHtml = 'Like what you see? Visit the ' +\n",
              "            '<a target=\"_blank\" href=https://colab.research.google.com/notebooks/data_table.ipynb>data table notebook</a>'\n",
              "            + ' to learn more about interactive tables.';\n",
              "          element.innerHTML = '';\n",
              "          dataTable['output_type'] = 'display_data';\n",
              "          await google.colab.output.renderOutput(dataTable, element);\n",
              "          const docLink = document.createElement('div');\n",
              "          docLink.innerHTML = docLinkHtml;\n",
              "          element.appendChild(docLink);\n",
              "        }\n",
              "      </script>\n",
              "    </div>\n",
              "  </div>\n",
              "  "
            ]
          },
          "metadata": {},
          "execution_count": 45
        }
      ]
    },
    {
      "cell_type": "code",
      "source": [
        "df['delivery_time'].mean()\n",
        "#average delivery time taken to deliver"
      ],
      "metadata": {
        "colab": {
          "base_uri": "https://localhost:8080/"
        },
        "id": "NZQxLoXHLShW",
        "outputId": "7dcccf81-3219-45df-af7a-901df661adc7"
      },
      "execution_count": null,
      "outputs": [
        {
          "output_type": "execute_result",
          "data": {
            "text/plain": [
              "46.203012908400986"
            ]
          },
          "metadata": {},
          "execution_count": 46
        }
      ]
    },
    {
      "cell_type": "code",
      "source": [
        "df.isnull().sum()"
      ],
      "metadata": {
        "colab": {
          "base_uri": "https://localhost:8080/"
        },
        "id": "sbODuGLMLYTM",
        "outputId": "ecd1be36-f833-41a1-ae7b-46c10255025b"
      },
      "execution_count": null,
      "outputs": [
        {
          "output_type": "execute_result",
          "data": {
            "text/plain": [
              "market_id                                       0\n",
              "created_at                                      0\n",
              "actual_delivery_time                            0\n",
              "store_primary_category                          0\n",
              "order_protocol                                  0\n",
              "total_items                                     0\n",
              "subtotal                                        0\n",
              "num_distinct_items                              0\n",
              "min_item_price                                  0\n",
              "max_item_price                                  0\n",
              "total_onshift_dashers                           0\n",
              "total_busy_dashers                              0\n",
              "total_outstanding_orders                        0\n",
              "estimated_store_to_consumer_driving_duration    0\n",
              "delivery_time                                   0\n",
              "dtype: int64"
            ]
          },
          "metadata": {},
          "execution_count": 47
        }
      ]
    },
    {
      "cell_type": "code",
      "source": [
        "df.hist(figsize=(30,15))"
      ],
      "metadata": {
        "colab": {
          "base_uri": "https://localhost:8080/",
          "height": 1000
        },
        "id": "8IDeJBTyMqpt",
        "outputId": "bb17650f-4996-48f6-aefc-c132a96c9b46"
      },
      "execution_count": null,
      "outputs": [
        {
          "output_type": "execute_result",
          "data": {
            "text/plain": [
              "array([[<matplotlib.axes._subplots.AxesSubplot object at 0x7fb2d01a1290>,\n",
              "        <matplotlib.axes._subplots.AxesSubplot object at 0x7fb2d0121610>,\n",
              "        <matplotlib.axes._subplots.AxesSubplot object at 0x7fb2d00d7c10>,\n",
              "        <matplotlib.axes._subplots.AxesSubplot object at 0x7fb2d00924d0>],\n",
              "       [<matplotlib.axes._subplots.AxesSubplot object at 0x7fb2d0047ad0>,\n",
              "        <matplotlib.axes._subplots.AxesSubplot object at 0x7fb2d000d110>,\n",
              "        <matplotlib.axes._subplots.AxesSubplot object at 0x7fb2cffc1790>,\n",
              "        <matplotlib.axes._subplots.AxesSubplot object at 0x7fb2cff78cd0>],\n",
              "       [<matplotlib.axes._subplots.AxesSubplot object at 0x7fb2cff78d10>,\n",
              "        <matplotlib.axes._subplots.AxesSubplot object at 0x7fb2cff3c450>,\n",
              "        <matplotlib.axes._subplots.AxesSubplot object at 0x7fb2cfeabf50>,\n",
              "        <matplotlib.axes._subplots.AxesSubplot object at 0x7fb2cfe6f590>],\n",
              "       [<matplotlib.axes._subplots.AxesSubplot object at 0x7fb2cfea6b90>,\n",
              "        <matplotlib.axes._subplots.AxesSubplot object at 0x7fb2cfde91d0>,\n",
              "        <matplotlib.axes._subplots.AxesSubplot object at 0x7fb2cfe1e7d0>,\n",
              "        <matplotlib.axes._subplots.AxesSubplot object at 0x7fb2cfdd6dd0>]],\n",
              "      dtype=object)"
            ]
          },
          "metadata": {},
          "execution_count": 48
        },
        {
          "output_type": "display_data",
          "data": {
            "text/plain": [
              "<Figure size 2160x1080 with 16 Axes>"
            ],
            "image/png": "[encoded data removed]"
          },
          "metadata": {
            "needs_background": "light"
          }
        }
      ]
    },
    {
      "cell_type": "code",
      "source": [
        "df['hour']=df['created_at'].dt.hour\n",
        "df['day']=df['created_at'].dt.dayofweek\n",
        "\n",
        "df.head()"
      ],
      "metadata": {
        "id": "3ZMO_F94WD5n",
        "colab": {
          "base_uri": "https://localhost:8080/",
          "height": 357
        },
        "outputId": "b085f0fb-7440-4f37-ebc0-7142c624b850"
      },
      "execution_count": null,
      "outputs": [
        {
          "output_type": "execute_result",
          "data": {
            "text/plain": [
              "   market_id          created_at actual_delivery_time  store_primary_category  \\\n",
              "0        1.0 2015-02-06 22:24:17  2015-02-06 23:11:17                       4   \n",
              "1        2.0 2015-02-10 21:49:25  2015-02-10 22:33:25                      46   \n",
              "2        2.0 2015-02-16 00:11:35  2015-02-16 01:06:35                      36   \n",
              "3        1.0 2015-02-12 03:36:46  2015-02-12 04:35:46                      38   \n",
              "4        1.0 2015-01-27 02:12:36  2015-01-27 02:58:36                      38   \n",
              "\n",
              "   order_protocol  total_items  subtotal  num_distinct_items  min_item_price  \\\n",
              "0             1.0            4      3441                   4             557   \n",
              "1             2.0            1      1900                   1            1400   \n",
              "2             3.0            4      4771                   3             820   \n",
              "3             1.0            1      1525                   1            1525   \n",
              "4             1.0            2      3620                   2            1425   \n",
              "\n",
              "   max_item_price  total_onshift_dashers  total_busy_dashers  \\\n",
              "0            1239                   33.0                14.0   \n",
              "1            1400                    1.0                 2.0   \n",
              "2            1604                    8.0                 6.0   \n",
              "3            1525                    5.0                 6.0   \n",
              "4            2195                    5.0                 5.0   \n",
              "\n",
              "   total_outstanding_orders  estimated_store_to_consumer_driving_duration  \\\n",
              "0                      21.0                                         861.0   \n",
              "1                       2.0                                         690.0   \n",
              "2                      18.0                                         289.0   \n",
              "3                       8.0                                         795.0   \n",
              "4                       7.0                                         205.0   \n",
              "\n",
              "   delivery_time  hour  day  \n",
              "0           47.0    22    4  \n",
              "1           44.0    21    1  \n",
              "2           55.0     0    0  \n",
              "3           59.0     3    3  \n",
              "4           46.0     2    1  "
            ],
            "text/html": [
              "\n",
              "  <div id=\"df-ac44520a-e97a-4a97-98dc-1b88c5783ddd\">\n",
              "    <div class=\"colab-df-container\">\n",
              "      <div>\n",
              "<style scoped>\n",
              "    .dataframe tbody tr th:only-of-type {\n",
              "        vertical-align: middle;\n",
              "    }\n",
              "\n",
              "    .dataframe tbody tr th {\n",
              "        vertical-align: top;\n",
              "    }\n",
              "\n",
              "    .dataframe thead th {\n",
              "        text-align: right;\n",
              "    }\n",
              "</style>\n",
              "<table border=\"1\" class=\"dataframe\">\n",
              "  <thead>\n",
              "    <tr style=\"text-align: right;\">\n",
              "      <th></th>\n",
              "      <th>market_id</th>\n",
              "      <th>created_at</th>\n",
              "      <th>actual_delivery_time</th>\n",
              "      <th>store_primary_category</th>\n",
              "      <th>order_protocol</th>\n",
              "      <th>total_items</th>\n",
              "      <th>subtotal</th>\n",
              "      <th>num_distinct_items</th>\n",
              "      <th>min_item_price</th>\n",
              "      <th>max_item_price</th>\n",
              "      <th>total_onshift_dashers</th>\n",
              "      <th>total_busy_dashers</th>\n",
              "      <th>total_outstanding_orders</th>\n",
              "      <th>estimated_store_to_consumer_driving_duration</th>\n",
              "      <th>delivery_time</th>\n",
              "      <th>hour</th>\n",
              "      <th>day</th>\n",
              "    </tr>\n",
              "  </thead>\n",
              "  <tbody>\n",
              "    <tr>\n",
              "      <th>0</th>\n",
              "      <td>1.0</td>\n",
              "      <td>2015-02-06 22:24:17</td>\n",
              "      <td>2015-02-06 23:11:17</td>\n",
              "      <td>4</td>\n",
              "      <td>1.0</td>\n",
              "      <td>4</td>\n",
              "      <td>3441</td>\n",
              "      <td>4</td>\n",
              "      <td>557</td>\n",
              "      <td>1239</td>\n",
              "      <td>33.0</td>\n",
              "      <td>14.0</td>\n",
              "      <td>21.0</td>\n",
              "      <td>861.0</td>\n",
              "      <td>47.0</td>\n",
              "      <td>22</td>\n",
              "      <td>4</td>\n",
              "    </tr>\n",
              "    <tr>\n",
              "      <th>1</th>\n",
              "      <td>2.0</td>\n",
              "      <td>2015-02-10 21:49:25</td>\n",
              "      <td>2015-02-10 22:33:25</td>\n",
              "      <td>46</td>\n",
              "      <td>2.0</td>\n",
              "      <td>1</td>\n",
              "      <td>1900</td>\n",
              "      <td>1</td>\n",
              "      <td>1400</td>\n",
              "      <td>1400</td>\n",
              "      <td>1.0</td>\n",
              "      <td>2.0</td>\n",
              "      <td>2.0</td>\n",
              "      <td>690.0</td>\n",
              "      <td>44.0</td>\n",
              "      <td>21</td>\n",
              "      <td>1</td>\n",
              "    </tr>\n",
              "    <tr>\n",
              "      <th>2</th>\n",
              "      <td>2.0</td>\n",
              "      <td>2015-02-16 00:11:35</td>\n",
              "      <td>2015-02-16 01:06:35</td>\n",
              "      <td>36</td>\n",
              "      <td>3.0</td>\n",
              "      <td>4</td>\n",
              "      <td>4771</td>\n",
              "      <td>3</td>\n",
              "      <td>820</td>\n",
              "      <td>1604</td>\n",
              "      <td>8.0</td>\n",
              "      <td>6.0</td>\n",
              "      <td>18.0</td>\n",
              "      <td>289.0</td>\n",
              "      <td>55.0</td>\n",
              "      <td>0</td>\n",
              "      <td>0</td>\n",
              "    </tr>\n",
              "    <tr>\n",
              "      <th>3</th>\n",
              "      <td>1.0</td>\n",
              "      <td>2015-02-12 03:36:46</td>\n",
              "      <td>2015-02-12 04:35:46</td>\n",
              "      <td>38</td>\n",
              "      <td>1.0</td>\n",
              "      <td>1</td>\n",
              "      <td>1525</td>\n",
              "      <td>1</td>\n",
              "      <td>1525</td>\n",
              "      <td>1525</td>\n",
              "      <td>5.0</td>\n",
              "      <td>6.0</td>\n",
              "      <td>8.0</td>\n",
              "      <td>795.0</td>\n",
              "      <td>59.0</td>\n",
              "      <td>3</td>\n",
              "      <td>3</td>\n",
              "    </tr>\n",
              "    <tr>\n",
              "      <th>4</th>\n",
              "      <td>1.0</td>\n",
              "      <td>2015-01-27 02:12:36</td>\n",
              "      <td>2015-01-27 02:58:36</td>\n",
              "      <td>38</td>\n",
              "      <td>1.0</td>\n",
              "      <td>2</td>\n",
              "      <td>3620</td>\n",
              "      <td>2</td>\n",
              "      <td>1425</td>\n",
              "      <td>2195</td>\n",
              "      <td>5.0</td>\n",
              "      <td>5.0</td>\n",
              "      <td>7.0</td>\n",
              "      <td>205.0</td>\n",
              "      <td>46.0</td>\n",
              "      <td>2</td>\n",
              "      <td>1</td>\n",
              "    </tr>\n",
              "  </tbody>\n",
              "</table>\n",
              "</div>\n",
              "      <button class=\"colab-df-convert\" onclick=\"convertToInteractive('df-ac44520a-e97a-4a97-98dc-1b88c5783ddd')\"\n",
              "              title=\"Convert this dataframe to an interactive table.\"\n",
              "              style=\"display:none;\">\n",
              "        \n",
              "  <svg xmlns=\"http://www.w3.org/2000/svg\" height=\"24px\"viewBox=\"0 0 24 24\"\n",
              "       width=\"24px\">\n",
              "    <path d=\"M0 0h24v24H0V0z\" fill=\"none\"/>\n",
              "    <path d=\"M18.56 5.44l.94 2.06.94-2.06 2.06-.94-2.06-.94-.94-2.06-.94 2.06-2.06.94zm-11 1L8.5 8.5l.94-2.06 2.06-.94-2.06-.94L8.5 2.5l-.94 2.06-2.06.94zm10 10l.94 2.06.94-2.06 2.06-.94-2.06-.94-.94-2.06-.94 2.06-2.06.94z\"/><path d=\"M17.41 7.96l-1.37-1.37c-.4-.4-.92-.59-1.43-.59-.52 0-1.04.2-1.43.59L10.3 9.45l-7.72 7.72c-.78.78-.78 2.05 0 2.83L4 21.41c.39.39.9.59 1.41.59.51 0 1.02-.2 1.41-.59l7.78-7.78 2.81-2.81c.8-.78.8-2.07 0-2.86zM5.41 20L4 18.59l7.72-7.72 1.47 1.35L5.41 20z\"/>\n",
              "  </svg>\n",
              "      </button>\n",
              "      \n",
              "  <style>\n",
              "    .colab-df-container {\n",
              "      display:flex;\n",
              "      flex-wrap:wrap;\n",
              "      gap: 12px;\n",
              "    }\n",
              "\n",
              "    .colab-df-convert {\n",
              "      background-color: #E8F0FE;\n",
              "      border: none;\n",
              "      border-radius: 50%;\n",
              "      cursor: pointer;\n",
              "      display: none;\n",
              "      fill: #1967D2;\n",
              "      height: 32px;\n",
              "      padding: 0 0 0 0;\n",
              "      width: 32px;\n",
              "    }\n",
              "\n",
              "    .colab-df-convert:hover {\n",
              "      background-color: #E2EBFA;\n",
              "      box-shadow: 0px 1px 2px rgba(60, 64, 67, 0.3), 0px 1px 3px 1px rgba(60, 64, 67, 0.15);\n",
              "      fill: #174EA6;\n",
              "    }\n",
              "\n",
              "    [theme=dark] .colab-df-convert {\n",
              "      background-color: #3B4455;\n",
              "      fill: #D2E3FC;\n",
              "    }\n",
              "\n",
              "    [theme=dark] .colab-df-convert:hover {\n",
              "      background-color: #434B5C;\n",
              "      box-shadow: 0px 1px 3px 1px rgba(0, 0, 0, 0.15);\n",
              "      filter: drop-shadow(0px 1px 2px rgba(0, 0, 0, 0.3));\n",
              "      fill: #FFFFFF;\n",
              "    }\n",
              "  </style>\n",
              "\n",
              "      <script>\n",
              "        const buttonEl =\n",
              "          document.querySelector('#df-ac44520a-e97a-4a97-98dc-1b88c5783ddd button.colab-df-convert');\n",
              "        buttonEl.style.display =\n",
              "          google.colab.kernel.accessAllowed ? 'block' : 'none';\n",
              "\n",
              "        async function convertToInteractive(key) {\n",
              "          const element = document.querySelector('#df-ac44520a-e97a-4a97-98dc-1b88c5783ddd');\n",
              "          const dataTable =\n",
              "            await google.colab.kernel.invokeFunction('convertToInteractive',\n",
              "                                                     [key], {});\n",
              "          if (!dataTable) return;\n",
              "\n",
              "          const docLinkHtml = 'Like what you see? Visit the ' +\n",
              "            '<a target=\"_blank\" href=https://colab.research.google.com/notebooks/data_table.ipynb>data table notebook</a>'\n",
              "            + ' to learn more about interactive tables.';\n",
              "          element.innerHTML = '';\n",
              "          dataTable['output_type'] = 'display_data';\n",
              "          await google.colab.output.renderOutput(dataTable, element);\n",
              "          const docLink = document.createElement('div');\n",
              "          docLink.innerHTML = docLinkHtml;\n",
              "          element.appendChild(docLink);\n",
              "        }\n",
              "      </script>\n",
              "    </div>\n",
              "  </div>\n",
              "  "
            ]
          },
          "metadata": {},
          "execution_count": 49
        }
      ]
    },
    {
      "cell_type": "code",
      "source": [
        "df.drop(['created_at','actual_delivery_time'],axis=1,inplace=True)\n",
        "df.info()"
      ],
      "metadata": {
        "id": "H5sVJV-KXgmG",
        "colab": {
          "base_uri": "https://localhost:8080/"
        },
        "outputId": "2d6605d4-976c-4ccc-aebb-6ae0e621db58"
      },
      "execution_count": null,
      "outputs": [
        {
          "output_type": "stream",
          "name": "stdout",
          "text": [
            "<class 'pandas.core.frame.DataFrame'>\n",
            "RangeIndex: 175777 entries, 0 to 175776\n",
            "Data columns (total 15 columns):\n",
            " #   Column                                        Non-Null Count   Dtype  \n",
            "---  ------                                        --------------   -----  \n",
            " 0   market_id                                     175777 non-null  float64\n",
            " 1   store_primary_category                        175777 non-null  int64  \n",
            " 2   order_protocol                                175777 non-null  float64\n",
            " 3   total_items                                   175777 non-null  int64  \n",
            " 4   subtotal                                      175777 non-null  int64  \n",
            " 5   num_distinct_items                            175777 non-null  int64  \n",
            " 6   min_item_price                                175777 non-null  int64  \n",
            " 7   max_item_price                                175777 non-null  int64  \n",
            " 8   total_onshift_dashers                         175777 non-null  float64\n",
            " 9   total_busy_dashers                            175777 non-null  float64\n",
            " 10  total_outstanding_orders                      175777 non-null  float64\n",
            " 11  estimated_store_to_consumer_driving_duration  175777 non-null  float64\n",
            " 12  delivery_time                                 175777 non-null  float64\n",
            " 13  hour                                          175777 non-null  int64  \n",
            " 14  day                                           175777 non-null  int64  \n",
            "dtypes: float64(7), int64(8)\n",
            "memory usage: 20.1 MB\n"
          ]
        }
      ]
    },
    {
      "cell_type": "code",
      "source": [
        "df.isna().sum()"
      ],
      "metadata": {
        "id": "S2v-yMcZYDR9",
        "colab": {
          "base_uri": "https://localhost:8080/"
        },
        "outputId": "819ab9bf-0587-4c5a-ded8-0cd390a6c3fb"
      },
      "execution_count": null,
      "outputs": [
        {
          "output_type": "execute_result",
          "data": {
            "text/plain": [
              "market_id                                       0\n",
              "store_primary_category                          0\n",
              "order_protocol                                  0\n",
              "total_items                                     0\n",
              "subtotal                                        0\n",
              "num_distinct_items                              0\n",
              "min_item_price                                  0\n",
              "max_item_price                                  0\n",
              "total_onshift_dashers                           0\n",
              "total_busy_dashers                              0\n",
              "total_outstanding_orders                        0\n",
              "estimated_store_to_consumer_driving_duration    0\n",
              "delivery_time                                   0\n",
              "hour                                            0\n",
              "day                                             0\n",
              "dtype: int64"
            ]
          },
          "metadata": {},
          "execution_count": 51
        }
      ]
    },
    {
      "cell_type": "code",
      "source": [
        "sns.heatmap(df.corr())"
      ],
      "metadata": {
        "id": "3v9s8JOGxsB5",
        "colab": {
          "base_uri": "https://localhost:8080/",
          "height": 514
        },
        "outputId": "753b462d-92d8-41fd-e2f4-4437103e0f33"
      },
      "execution_count": null,
      "outputs": [
        {
          "output_type": "execute_result",
          "data": {
            "text/plain": [
              "<matplotlib.axes._subplots.AxesSubplot at 0x7fb2d012d390>"
            ]
          },
          "metadata": {},
          "execution_count": 52
        },
        {
          "output_type": "display_data",
          "data": {
            "text/plain": [
              "<Figure size 432x288 with 2 Axes>"
            ],
            "image/png": "[encoded data removed]"
          },
          "metadata": {
            "needs_background": "light"
          }
        }
      ]
    },
    {
      "cell_type": "code",
      "source": [
        "from sklearn.neighbors import LocalOutlierFactor\n",
        "model1 = LocalOutlierFactor()\n",
        "\n",
        "df['lof_anomaly_score'] = model1.fit_predict(df)"
      ],
      "metadata": {
        "id": "YxjBpBmIOZFd"
      },
      "execution_count": null,
      "outputs": []
    },
    {
      "cell_type": "code",
      "source": [
        "print(\"number of outliers : \", (len(df.loc[(df['lof_anomaly_score'] == -1)])))\n",
        "df=df.loc[(df['lof_anomaly_score'] == 1)]"
      ],
      "metadata": {
        "id": "tkJFwf3wOaJo",
        "colab": {
          "base_uri": "https://localhost:8080/"
        },
        "outputId": "c1b90cb7-e4c2-44d3-9793-72de99b165fe"
      },
      "execution_count": null,
      "outputs": [
        {
          "output_type": "stream",
          "name": "stdout",
          "text": [
            "number of outliers :  831\n"
          ]
        }
      ]
    },
    {
      "cell_type": "code",
      "source": [
        "df.drop(['lof_anomaly_score'],axis=1,inplace=True)\n",
        "df.info()"
      ],
      "metadata": {
        "id": "rDPbTsWPgJB5",
        "colab": {
          "base_uri": "https://localhost:8080/"
        },
        "outputId": "0816f9b7-1449-45c8-a079-196e8190d365"
      },
      "execution_count": null,
      "outputs": [
        {
          "output_type": "stream",
          "name": "stdout",
          "text": [
            "<class 'pandas.core.frame.DataFrame'>\n",
            "Int64Index: 174946 entries, 0 to 175776\n",
            "Data columns (total 15 columns):\n",
            " #   Column                                        Non-Null Count   Dtype  \n",
            "---  ------                                        --------------   -----  \n",
            " 0   market_id                                     174946 non-null  float64\n",
            " 1   store_primary_category                        174946 non-null  int64  \n",
            " 2   order_protocol                                174946 non-null  float64\n",
            " 3   total_items                                   174946 non-null  int64  \n",
            " 4   subtotal                                      174946 non-null  int64  \n",
            " 5   num_distinct_items                            174946 non-null  int64  \n",
            " 6   min_item_price                                174946 non-null  int64  \n",
            " 7   max_item_price                                174946 non-null  int64  \n",
            " 8   total_onshift_dashers                         174946 non-null  float64\n",
            " 9   total_busy_dashers                            174946 non-null  float64\n",
            " 10  total_outstanding_orders                      174946 non-null  float64\n",
            " 11  estimated_store_to_consumer_driving_duration  174946 non-null  float64\n",
            " 12  delivery_time                                 174946 non-null  float64\n",
            " 13  hour                                          174946 non-null  int64  \n",
            " 14  day                                           174946 non-null  int64  \n",
            "dtypes: float64(7), int64(8)\n",
            "memory usage: 21.4 MB\n"
          ]
        },
        {
          "output_type": "stream",
          "name": "stderr",
          "text": [
            "/usr/local/lib/python3.7/dist-packages/pandas/core/frame.py:4913: SettingWithCopyWarning: \n",
            "A value is trying to be set on a copy of a slice from a DataFrame\n",
            "\n",
            "See the caveats in the documentation: https://pandas.pydata.org/pandas-docs/stable/user_guide/indexing.html#returning-a-view-versus-a-copy\n",
            "  errors=errors,\n"
          ]
        }
      ]
    },
    {
      "cell_type": "code",
      "source": [
        "sns.countplot(df.day)"
      ],
      "metadata": {
        "colab": {
          "base_uri": "https://localhost:8080/",
          "height": 353
        },
        "id": "4xHxAnxsgQo0",
        "outputId": "4ae52e1f-ebf7-4665-893a-1a15fca0f718"
      },
      "execution_count": null,
      "outputs": [
        {
          "output_type": "stream",
          "name": "stderr",
          "text": [
            "/usr/local/lib/python3.7/dist-packages/seaborn/_decorators.py:43: FutureWarning: Pass the following variable as a keyword arg: x. From version 0.12, the only valid positional argument will be `data`, and passing other arguments without an explicit keyword will result in an error or misinterpretation.\n",
            "  FutureWarning\n"
          ]
        },
        {
          "output_type": "execute_result",
          "data": {
            "text/plain": [
              "<matplotlib.axes._subplots.AxesSubplot at 0x7fb2cdfbf3d0>"
            ]
          },
          "metadata": {},
          "execution_count": 56
        },
        {
          "output_type": "display_data",
          "data": {
            "text/plain": [
              "<Figure size 432x288 with 1 Axes>"
            ],
            "image/png": "[encoded data removed]"
          },
          "metadata": {
            "needs_background": "light"
          }
        }
      ]
    },
    {
      "cell_type": "code",
      "source": [
        "sns.countplot(df.hour)"
      ],
      "metadata": {
        "colab": {
          "base_uri": "https://localhost:8080/",
          "height": 353
        },
        "id": "fTdIX3fE3Ew2",
        "outputId": "9237b5aa-96bb-4c31-db3d-c3003ecf035f"
      },
      "execution_count": null,
      "outputs": [
        {
          "output_type": "stream",
          "name": "stderr",
          "text": [
            "/usr/local/lib/python3.7/dist-packages/seaborn/_decorators.py:43: FutureWarning: Pass the following variable as a keyword arg: x. From version 0.12, the only valid positional argument will be `data`, and passing other arguments without an explicit keyword will result in an error or misinterpretation.\n",
            "  FutureWarning\n"
          ]
        },
        {
          "output_type": "execute_result",
          "data": {
            "text/plain": [
              "<matplotlib.axes._subplots.AxesSubplot at 0x7fb2ccedcc50>"
            ]
          },
          "metadata": {},
          "execution_count": 57
        },
        {
          "output_type": "display_data",
          "data": {
            "text/plain": [
              "<Figure size 432x288 with 1 Axes>"
            ],
            "image/png": "[encoded data removed]"
          },
          "metadata": {
            "needs_background": "light"
          }
        }
      ]
    },
    {
      "cell_type": "code",
      "source": [
        "sns.scatterplot(x='hour',y='delivery_time', data=df)"
      ],
      "metadata": {
        "colab": {
          "base_uri": "https://localhost:8080/",
          "height": 297
        },
        "id": "lxl9dHSR3Tph",
        "outputId": "b34defd1-c4bc-42a1-c8c4-94076ce67377"
      },
      "execution_count": null,
      "outputs": [
        {
          "output_type": "execute_result",
          "data": {
            "text/plain": [
              "<matplotlib.axes._subplots.AxesSubplot at 0x7fb2cb9a97d0>"
            ]
          },
          "metadata": {},
          "execution_count": 58
        },
        {
          "output_type": "display_data",
          "data": {
            "text/plain": [
              "<Figure size 432x288 with 1 Axes>"
            ],
            "image/png": "[encoded data removed]"
          },
          "metadata": {
            "needs_background": "light"
          }
        }
      ]
    },
    {
      "cell_type": "code",
      "source": [
        "scaler = StandardScaler()\n",
        "df1= pd.DataFrame(scaler.fit_transform(df),columns=df.columns)\n",
        "#df2=pd.DataFrame(df1,columns=df.columns)"
      ],
      "metadata": {
        "id": "yqZRc9qXm3k2"
      },
      "execution_count": null,
      "outputs": []
    },
    {
      "cell_type": "code",
      "source": [
        "df1.head()"
      ],
      "metadata": {
        "colab": {
          "base_uri": "https://localhost:8080/",
          "height": 270
        },
        "id": "IpJzLJie8Agm",
        "outputId": "2de9f50b-ea82-452f-d942-9bf0c65f2f2e"
      },
      "execution_count": null,
      "outputs": [
        {
          "output_type": "execute_result",
          "data": {
            "text/plain": [
              "   market_id  store_primary_category  order_protocol  total_items  subtotal  \\\n",
              "0  -1.310345               -1.538797       -1.264104     0.318929  0.408109   \n",
              "1  -0.558978                0.487941       -0.603267    -0.888178 -0.438482   \n",
              "2  -0.558978                0.005385        0.057571     0.318929  1.138781   \n",
              "3  -1.310345                0.101896       -1.264104    -0.888178 -0.644499   \n",
              "4  -1.310345                0.101896       -1.264104    -0.485809  0.506448   \n",
              "\n",
              "   num_distinct_items  min_item_price  max_item_price  total_onshift_dashers  \\\n",
              "0            0.813233       -0.244144        0.146039              -0.345215   \n",
              "1           -1.033878        1.399361        0.436379              -1.271841   \n",
              "2            0.197530        0.268598        0.804264              -1.069141   \n",
              "3           -1.033878        1.643060        0.661799              -1.156013   \n",
              "4           -0.418174        1.448101        1.870046              -1.156013   \n",
              "\n",
              "   total_busy_dashers  total_outstanding_orders  \\\n",
              "0           -0.866489                 -0.706571   \n",
              "1           -1.239700                 -1.067212   \n",
              "2           -1.115296                 -0.763514   \n",
              "3           -1.115296                 -0.953326   \n",
              "4           -1.146397                 -0.972307   \n",
              "\n",
              "   estimated_store_to_consumer_driving_duration  delivery_time      hour  \\\n",
              "0                                      1.446184       0.086524  1.559305   \n",
              "1                                      0.661692      -0.235679  1.444044   \n",
              "2                                     -1.177964       0.945733 -0.976430   \n",
              "3                                      1.143397       1.375337 -0.630648   \n",
              "4                                     -1.563328      -0.020877 -0.745909   \n",
              "\n",
              "        day  \n",
              "0  0.380407  \n",
              "1 -1.087601  \n",
              "2 -1.576937  \n",
              "3 -0.108929  \n",
              "4 -1.087601  "
            ],
            "text/html": [
              "\n",
              "  <div id=\"df-112eb63d-a6fc-4aa7-907b-919f63dbe60c\">\n",
              "    <div class=\"colab-df-container\">\n",
              "      <div>\n",
              "<style scoped>\n",
              "    .dataframe tbody tr th:only-of-type {\n",
              "        vertical-align: middle;\n",
              "    }\n",
              "\n",
              "    .dataframe tbody tr th {\n",
              "        vertical-align: top;\n",
              "    }\n",
              "\n",
              "    .dataframe thead th {\n",
              "        text-align: right;\n",
              "    }\n",
              "</style>\n",
              "<table border=\"1\" class=\"dataframe\">\n",
              "  <thead>\n",
              "    <tr style=\"text-align: right;\">\n",
              "      <th></th>\n",
              "      <th>market_id</th>\n",
              "      <th>store_primary_category</th>\n",
              "      <th>order_protocol</th>\n",
              "      <th>total_items</th>\n",
              "      <th>subtotal</th>\n",
              "      <th>num_distinct_items</th>\n",
              "      <th>min_item_price</th>\n",
              "      <th>max_item_price</th>\n",
              "      <th>total_onshift_dashers</th>\n",
              "      <th>total_busy_dashers</th>\n",
              "      <th>total_outstanding_orders</th>\n",
              "      <th>estimated_store_to_consumer_driving_duration</th>\n",
              "      <th>delivery_time</th>\n",
              "      <th>hour</th>\n",
              "      <th>day</th>\n",
              "    </tr>\n",
              "  </thead>\n",
              "  <tbody>\n",
              "    <tr>\n",
              "      <th>0</th>\n",
              "      <td>-1.310345</td>\n",
              "      <td>-1.538797</td>\n",
              "      <td>-1.264104</td>\n",
              "      <td>0.318929</td>\n",
              "      <td>0.408109</td>\n",
              "      <td>0.813233</td>\n",
              "      <td>-0.244144</td>\n",
              "      <td>0.146039</td>\n",
              "      <td>-0.345215</td>\n",
              "      <td>-0.866489</td>\n",
              "      <td>-0.706571</td>\n",
              "      <td>1.446184</td>\n",
              "      <td>0.086524</td>\n",
              "      <td>1.559305</td>\n",
              "      <td>0.380407</td>\n",
              "    </tr>\n",
              "    <tr>\n",
              "      <th>1</th>\n",
              "      <td>-0.558978</td>\n",
              "      <td>0.487941</td>\n",
              "      <td>-0.603267</td>\n",
              "      <td>-0.888178</td>\n",
              "      <td>-0.438482</td>\n",
              "      <td>-1.033878</td>\n",
              "      <td>1.399361</td>\n",
              "      <td>0.436379</td>\n",
              "      <td>-1.271841</td>\n",
              "      <td>-1.239700</td>\n",
              "      <td>-1.067212</td>\n",
              "      <td>0.661692</td>\n",
              "      <td>-0.235679</td>\n",
              "      <td>1.444044</td>\n",
              "      <td>-1.087601</td>\n",
              "    </tr>\n",
              "    <tr>\n",
              "      <th>2</th>\n",
              "      <td>-0.558978</td>\n",
              "      <td>0.005385</td>\n",
              "      <td>0.057571</td>\n",
              "      <td>0.318929</td>\n",
              "      <td>1.138781</td>\n",
              "      <td>0.197530</td>\n",
              "      <td>0.268598</td>\n",
              "      <td>0.804264</td>\n",
              "      <td>-1.069141</td>\n",
              "      <td>-1.115296</td>\n",
              "      <td>-0.763514</td>\n",
              "      <td>-1.177964</td>\n",
              "      <td>0.945733</td>\n",
              "      <td>-0.976430</td>\n",
              "      <td>-1.576937</td>\n",
              "    </tr>\n",
              "    <tr>\n",
              "      <th>3</th>\n",
              "      <td>-1.310345</td>\n",
              "      <td>0.101896</td>\n",
              "      <td>-1.264104</td>\n",
              "      <td>-0.888178</td>\n",
              "      <td>-0.644499</td>\n",
              "      <td>-1.033878</td>\n",
              "      <td>1.643060</td>\n",
              "      <td>0.661799</td>\n",
              "      <td>-1.156013</td>\n",
              "      <td>-1.115296</td>\n",
              "      <td>-0.953326</td>\n",
              "      <td>1.143397</td>\n",
              "      <td>1.375337</td>\n",
              "      <td>-0.630648</td>\n",
              "      <td>-0.108929</td>\n",
              "    </tr>\n",
              "    <tr>\n",
              "      <th>4</th>\n",
              "      <td>-1.310345</td>\n",
              "      <td>0.101896</td>\n",
              "      <td>-1.264104</td>\n",
              "      <td>-0.485809</td>\n",
              "      <td>0.506448</td>\n",
              "      <td>-0.418174</td>\n",
              "      <td>1.448101</td>\n",
              "      <td>1.870046</td>\n",
              "      <td>-1.156013</td>\n",
              "      <td>-1.146397</td>\n",
              "      <td>-0.972307</td>\n",
              "      <td>-1.563328</td>\n",
              "      <td>-0.020877</td>\n",
              "      <td>-0.745909</td>\n",
              "      <td>-1.087601</td>\n",
              "    </tr>\n",
              "  </tbody>\n",
              "</table>\n",
              "</div>\n",
              "      <button class=\"colab-df-convert\" onclick=\"convertToInteractive('df-112eb63d-a6fc-4aa7-907b-919f63dbe60c')\"\n",
              "              title=\"Convert this dataframe to an interactive table.\"\n",
              "              style=\"display:none;\">\n",
              "        \n",
              "  <svg xmlns=\"http://www.w3.org/2000/svg\" height=\"24px\"viewBox=\"0 0 24 24\"\n",
              "       width=\"24px\">\n",
              "    <path d=\"M0 0h24v24H0V0z\" fill=\"none\"/>\n",
              "    <path d=\"M18.56 5.44l.94 2.06.94-2.06 2.06-.94-2.06-.94-.94-2.06-.94 2.06-2.06.94zm-11 1L8.5 8.5l.94-2.06 2.06-.94-2.06-.94L8.5 2.5l-.94 2.06-2.06.94zm10 10l.94 2.06.94-2.06 2.06-.94-2.06-.94-.94-2.06-.94 2.06-2.06.94z\"/><path d=\"M17.41 7.96l-1.37-1.37c-.4-.4-.92-.59-1.43-.59-.52 0-1.04.2-1.43.59L10.3 9.45l-7.72 7.72c-.78.78-.78 2.05 0 2.83L4 21.41c.39.39.9.59 1.41.59.51 0 1.02-.2 1.41-.59l7.78-7.78 2.81-2.81c.8-.78.8-2.07 0-2.86zM5.41 20L4 18.59l7.72-7.72 1.47 1.35L5.41 20z\"/>\n",
              "  </svg>\n",
              "      </button>\n",
              "      \n",
              "  <style>\n",
              "    .colab-df-container {\n",
              "      display:flex;\n",
              "      flex-wrap:wrap;\n",
              "      gap: 12px;\n",
              "    }\n",
              "\n",
              "    .colab-df-convert {\n",
              "      background-color: #E8F0FE;\n",
              "      border: none;\n",
              "      border-radius: 50%;\n",
              "      cursor: pointer;\n",
              "      display: none;\n",
              "      fill: #1967D2;\n",
              "      height: 32px;\n",
              "      padding: 0 0 0 0;\n",
              "      width: 32px;\n",
              "    }\n",
              "\n",
              "    .colab-df-convert:hover {\n",
              "      background-color: #E2EBFA;\n",
              "      box-shadow: 0px 1px 2px rgba(60, 64, 67, 0.3), 0px 1px 3px 1px rgba(60, 64, 67, 0.15);\n",
              "      fill: #174EA6;\n",
              "    }\n",
              "\n",
              "    [theme=dark] .colab-df-convert {\n",
              "      background-color: #3B4455;\n",
              "      fill: #D2E3FC;\n",
              "    }\n",
              "\n",
              "    [theme=dark] .colab-df-convert:hover {\n",
              "      background-color: #434B5C;\n",
              "      box-shadow: 0px 1px 3px 1px rgba(0, 0, 0, 0.15);\n",
              "      filter: drop-shadow(0px 1px 2px rgba(0, 0, 0, 0.3));\n",
              "      fill: #FFFFFF;\n",
              "    }\n",
              "  </style>\n",
              "\n",
              "      <script>\n",
              "        const buttonEl =\n",
              "          document.querySelector('#df-112eb63d-a6fc-4aa7-907b-919f63dbe60c button.colab-df-convert');\n",
              "        buttonEl.style.display =\n",
              "          google.colab.kernel.accessAllowed ? 'block' : 'none';\n",
              "\n",
              "        async function convertToInteractive(key) {\n",
              "          const element = document.querySelector('#df-112eb63d-a6fc-4aa7-907b-919f63dbe60c');\n",
              "          const dataTable =\n",
              "            await google.colab.kernel.invokeFunction('convertToInteractive',\n",
              "                                                     [key], {});\n",
              "          if (!dataTable) return;\n",
              "\n",
              "          const docLinkHtml = 'Like what you see? Visit the ' +\n",
              "            '<a target=\"_blank\" href=https://colab.research.google.com/notebooks/data_table.ipynb>data table notebook</a>'\n",
              "            + ' to learn more about interactive tables.';\n",
              "          element.innerHTML = '';\n",
              "          dataTable['output_type'] = 'display_data';\n",
              "          await google.colab.output.renderOutput(dataTable, element);\n",
              "          const docLink = document.createElement('div');\n",
              "          docLink.innerHTML = docLinkHtml;\n",
              "          element.appendChild(docLink);\n",
              "        }\n",
              "      </script>\n",
              "    </div>\n",
              "  </div>\n",
              "  "
            ]
          },
          "metadata": {},
          "execution_count": 61
        }
      ]
    },
    {
      "cell_type": "code",
      "source": [
        "y=df['delivery_time']\n",
        "x = df.drop(['delivery_time'], axis=1)\n",
        "df.drop(['delivery_time'], axis=1,inplace=True)\n",
        "X_train, X_test, y_train, y_test = train_test_split(x, y, test_size=0.2,  random_state=42)"
      ],
      "metadata": {
        "id": "xanm0-Cm3yMr"
      },
      "execution_count": null,
      "outputs": []
    },
    {
      "cell_type": "code",
      "source": [
        "regressor = RandomForestRegressor()\n",
        "regressor.fit(X_train, y_train)"
      ],
      "metadata": {
        "colab": {
          "base_uri": "https://localhost:8080/"
        },
        "id": "XCRorPamEJfw",
        "outputId": "c13c9957-2813-402a-86db-ddb9509f2b2c"
      },
      "execution_count": null,
      "outputs": [
        {
          "output_type": "execute_result",
          "data": {
            "text/plain": [
              "RandomForestRegressor()"
            ]
          },
          "metadata": {},
          "execution_count": 63
        }
      ]
    },
    {
      "cell_type": "code",
      "source": [
        "prediction = regressor.predict(X_test)\n",
        "mse = metrics.mean_squared_error(y_test, prediction)\n",
        "rmse = mse**.5\n",
        "print(\"mse : \", mse)\n",
        "print(\"rmse : \",rmse)\n",
        "mae = metrics.mean_absolute_error(y_test, prediction)\n",
        "print('mae:' ,mae)"
      ],
      "metadata": {
        "colab": {
          "base_uri": "https://localhost:8080/"
        },
        "id": "bc4PbZGaF5tw",
        "outputId": "148a5ded-e04f-44dd-e02c-4d1096204cc4"
      },
      "execution_count": null,
      "outputs": [
        {
          "output_type": "stream",
          "name": "stdout",
          "text": [
            "mse :  3.20545735352958\n",
            "rmse :  1.790379108884367\n",
            "mae: 1.2791066018862534\n"
          ]
        }
      ]
    },
    {
      "cell_type": "code",
      "source": [
        "sorted_idx = regressor.feature_importances_.argsort()\n",
        "plt.barh(df.columns[sorted_idx], regressor.feature_importances_[sorted_idx])\n",
        "plt.xlabel(\"Random Forest Feature Importance\")"
      ],
      "metadata": {
        "id": "umqHLyEvLwRz",
        "colab": {
          "base_uri": "https://localhost:8080/",
          "height": 297
        },
        "outputId": "cfb05a6b-6322-4132-8d4e-ceda25edb9b2"
      },
      "execution_count": null,
      "outputs": [
        {
          "output_type": "execute_result",
          "data": {
            "text/plain": [
              "Text(0.5, 0, 'Random Forest Feature Importance')"
            ]
          },
          "metadata": {},
          "execution_count": 65
        },
        {
          "output_type": "display_data",
          "data": {
            "text/plain": [
              "<Figure size 432x288 with 1 Axes>"
            ],
            "image/png": "[encoded data removed]"
          },
          "metadata": {
            "needs_background": "light"
          }
        }
      ]
    },
    {
      "cell_type": "code",
      "source": [
        "import tensorflow as tf \n",
        "from tensorflow import keras\n",
        "from keras.models import Sequential\n",
        "from keras.layers import Dense"
      ],
      "metadata": {
        "id": "upk2LjB7giN1"
      },
      "execution_count": null,
      "outputs": []
    },
    {
      "cell_type": "code",
      "source": [
        "from sklearn import preprocessing\n",
        "scaler = preprocessing.MinMaxScaler()\n",
        "x_scaled = scaler.fit_transform(x)\n",
        "X_train, X_test, y_train, y_test = train_test_split(x_scaled, y, test_size=0.2,  random_state=42)"
      ],
      "metadata": {
        "id": "UD7pYsi4gqIm"
      },
      "execution_count": null,
      "outputs": []
    },
    {
      "cell_type": "code",
      "source": [
        "model = Sequential()\n",
        "model.add(Dense(14,  kernel_initializer='normal', activation='relu'))\n",
        "model.add(Dense(512, activation='relu'))\n",
        "model.add(Dense(1024, activation='relu'))\n",
        "model.add(Dense(256, activation='relu'))\n",
        "model.add(Dense(1, activation='linear'))\n",
        "\n",
        "from tensorflow.keras.optimizers import Adam\n",
        "adam=Adam(learning_rate=0.01)\n",
        "model.compile(loss='mse', optimizer=adam, metrics=['mse','mae'])\n",
        "history=model.fit(X_train, y_train, epochs=50, batch_size=512, verbose=1, validation_split=0.2)"
      ],
      "metadata": {
        "id": "bx1FHSv-hh_g",
        "colab": {
          "base_uri": "https://localhost:8080/"
        },
        "outputId": "c5e83937-e935-417d-f666-4e2dd8018ed8"
      },
      "execution_count": null,
      "outputs": [
        {
          "output_type": "stream",
          "name": "stdout",
          "text": [
            "Epoch 1/50\n",
            "219/219 [==============================] - 2s 6ms/step - loss: 60.3279 - mse: 60.3279 - mae: 4.3882 - val_loss: 2.6879 - val_mse: 2.6879 - val_mae: 1.2031\n",
            "Epoch 2/50\n",
            "219/219 [==============================] - 1s 5ms/step - loss: 2.2973 - mse: 2.2973 - mae: 1.1671 - val_loss: 2.4553 - val_mse: 2.4553 - val_mae: 1.3615\n",
            "Epoch 3/50\n",
            "219/219 [==============================] - 1s 5ms/step - loss: 1.5626 - mse: 1.5626 - mae: 0.9796 - val_loss: 0.3098 - val_mse: 0.3098 - val_mae: 0.4220\n",
            "Epoch 4/50\n",
            "219/219 [==============================] - 1s 5ms/step - loss: 1.5869 - mse: 1.5869 - mae: 1.0118 - val_loss: 1.7579 - val_mse: 1.7579 - val_mae: 1.1678\n",
            "Epoch 5/50\n",
            "219/219 [==============================] - 1s 5ms/step - loss: 1.0577 - mse: 1.0577 - mae: 0.8376 - val_loss: 3.4798 - val_mse: 3.4798 - val_mae: 1.7932\n",
            "Epoch 6/50\n",
            "219/219 [==============================] - 1s 5ms/step - loss: 1.5529 - mse: 1.5529 - mae: 0.9397 - val_loss: 0.4469 - val_mse: 0.4469 - val_mae: 0.5664\n",
            "Epoch 7/50\n",
            "219/219 [==============================] - 1s 5ms/step - loss: 1.1842 - mse: 1.1842 - mae: 0.8223 - val_loss: 0.1595 - val_mse: 0.1595 - val_mae: 0.3226\n",
            "Epoch 8/50\n",
            "219/219 [==============================] - 1s 5ms/step - loss: 1.1279 - mse: 1.1279 - mae: 0.7665 - val_loss: 0.1736 - val_mse: 0.1736 - val_mae: 0.3361\n",
            "Epoch 9/50\n",
            "219/219 [==============================] - 1s 5ms/step - loss: 0.9980 - mse: 0.9980 - mae: 0.8027 - val_loss: 0.9224 - val_mse: 0.9224 - val_mae: 0.8615\n",
            "Epoch 10/50\n",
            "219/219 [==============================] - 1s 5ms/step - loss: 1.1798 - mse: 1.1798 - mae: 0.8566 - val_loss: 0.7781 - val_mse: 0.7781 - val_mae: 0.7887\n",
            "Epoch 11/50\n",
            "219/219 [==============================] - 1s 5ms/step - loss: 0.8758 - mse: 0.8758 - mae: 0.7365 - val_loss: 1.4173 - val_mse: 1.4173 - val_mae: 1.1144\n",
            "Epoch 12/50\n",
            "219/219 [==============================] - 1s 5ms/step - loss: 1.1202 - mse: 1.1202 - mae: 0.8015 - val_loss: 2.3136 - val_mse: 2.3136 - val_mae: 1.3984\n",
            "Epoch 13/50\n",
            "219/219 [==============================] - 1s 5ms/step - loss: 0.6732 - mse: 0.6732 - mae: 0.6069 - val_loss: 2.0060 - val_mse: 2.0060 - val_mae: 1.3400\n",
            "Epoch 14/50\n",
            "219/219 [==============================] - 1s 5ms/step - loss: 1.0419 - mse: 1.0419 - mae: 0.7686 - val_loss: 0.2846 - val_mse: 0.2846 - val_mae: 0.4354\n",
            "Epoch 15/50\n",
            "219/219 [==============================] - 1s 5ms/step - loss: 0.5274 - mse: 0.5274 - mae: 0.5911 - val_loss: 1.0367 - val_mse: 1.0367 - val_mae: 0.9526\n",
            "Epoch 16/50\n",
            "219/219 [==============================] - 1s 5ms/step - loss: 0.8868 - mse: 0.8868 - mae: 0.6995 - val_loss: 0.1498 - val_mse: 0.1498 - val_mae: 0.3167\n",
            "Epoch 17/50\n",
            "219/219 [==============================] - 1s 5ms/step - loss: 0.6233 - mse: 0.6233 - mae: 0.6501 - val_loss: 0.1252 - val_mse: 0.1252 - val_mae: 0.2915\n",
            "Epoch 18/50\n",
            "219/219 [==============================] - 1s 5ms/step - loss: 0.8115 - mse: 0.8115 - mae: 0.6877 - val_loss: 1.6457 - val_mse: 1.6457 - val_mae: 1.1839\n",
            "Epoch 19/50\n",
            "219/219 [==============================] - 1s 5ms/step - loss: 0.6094 - mse: 0.6094 - mae: 0.6086 - val_loss: 0.1218 - val_mse: 0.1218 - val_mae: 0.2890\n",
            "Epoch 20/50\n",
            "219/219 [==============================] - 1s 4ms/step - loss: 0.6013 - mse: 0.6013 - mae: 0.6153 - val_loss: 0.3815 - val_mse: 0.3815 - val_mae: 0.5248\n",
            "Epoch 21/50\n",
            "219/219 [==============================] - 1s 4ms/step - loss: 0.6455 - mse: 0.6455 - mae: 0.6086 - val_loss: 0.4183 - val_mse: 0.4183 - val_mae: 0.5544\n",
            "Epoch 22/50\n",
            "219/219 [==============================] - 1s 4ms/step - loss: 0.5041 - mse: 0.5041 - mae: 0.5636 - val_loss: 0.1422 - val_mse: 0.1422 - val_mae: 0.3077\n",
            "Epoch 23/50\n",
            "219/219 [==============================] - 1s 5ms/step - loss: 0.6718 - mse: 0.6718 - mae: 0.6419 - val_loss: 0.2976 - val_mse: 0.2976 - val_mae: 0.4527\n",
            "Epoch 24/50\n",
            "219/219 [==============================] - 1s 5ms/step - loss: 0.5068 - mse: 0.5068 - mae: 0.5619 - val_loss: 0.3757 - val_mse: 0.3757 - val_mae: 0.5260\n",
            "Epoch 25/50\n",
            "219/219 [==============================] - 1s 5ms/step - loss: 0.5385 - mse: 0.5385 - mae: 0.5783 - val_loss: 0.2764 - val_mse: 0.2764 - val_mae: 0.4394\n",
            "Epoch 26/50\n",
            "219/219 [==============================] - 1s 5ms/step - loss: 0.4456 - mse: 0.4456 - mae: 0.5305 - val_loss: 0.1204 - val_mse: 0.1204 - val_mae: 0.2879\n",
            "Epoch 27/50\n",
            "219/219 [==============================] - 1s 5ms/step - loss: 0.4867 - mse: 0.4867 - mae: 0.5548 - val_loss: 0.1105 - val_mse: 0.1105 - val_mae: 0.2773\n",
            "Epoch 28/50\n",
            "219/219 [==============================] - 1s 5ms/step - loss: 0.5407 - mse: 0.5407 - mae: 0.5699 - val_loss: 0.3589 - val_mse: 0.3589 - val_mae: 0.5073\n",
            "Epoch 29/50\n",
            "219/219 [==============================] - 1s 5ms/step - loss: 0.5276 - mse: 0.5276 - mae: 0.5700 - val_loss: 0.1183 - val_mse: 0.1183 - val_mae: 0.2851\n",
            "Epoch 30/50\n",
            "219/219 [==============================] - 1s 5ms/step - loss: 0.4290 - mse: 0.4290 - mae: 0.4707 - val_loss: 0.1106 - val_mse: 0.1106 - val_mae: 0.2774\n",
            "Epoch 31/50\n",
            "219/219 [==============================] - 1s 5ms/step - loss: 0.3831 - mse: 0.3831 - mae: 0.4833 - val_loss: 0.6965 - val_mse: 0.6965 - val_mae: 0.7664\n",
            "Epoch 32/50\n",
            "219/219 [==============================] - 1s 5ms/step - loss: 0.3881 - mse: 0.3881 - mae: 0.4957 - val_loss: 0.2628 - val_mse: 0.2628 - val_mae: 0.4225\n",
            "Epoch 33/50\n",
            "219/219 [==============================] - 1s 5ms/step - loss: 0.4447 - mse: 0.4447 - mae: 0.5371 - val_loss: 0.5487 - val_mse: 0.5487 - val_mae: 0.6657\n",
            "Epoch 34/50\n",
            "219/219 [==============================] - 1s 5ms/step - loss: 0.4241 - mse: 0.4241 - mae: 0.5227 - val_loss: 0.1648 - val_mse: 0.1648 - val_mae: 0.3312\n",
            "Epoch 35/50\n",
            "219/219 [==============================] - 1s 5ms/step - loss: 0.4289 - mse: 0.4289 - mae: 0.4750 - val_loss: 0.1150 - val_mse: 0.1150 - val_mae: 0.2809\n",
            "Epoch 36/50\n",
            "219/219 [==============================] - 1s 5ms/step - loss: 0.3406 - mse: 0.3406 - mae: 0.4487 - val_loss: 0.1001 - val_mse: 0.1001 - val_mae: 0.2655\n",
            "Epoch 37/50\n",
            "219/219 [==============================] - 1s 5ms/step - loss: 0.4164 - mse: 0.4164 - mae: 0.5192 - val_loss: 0.1090 - val_mse: 0.1090 - val_mae: 0.2737\n",
            "Epoch 38/50\n",
            "219/219 [==============================] - 1s 5ms/step - loss: 0.3051 - mse: 0.3051 - mae: 0.4299 - val_loss: 1.2723 - val_mse: 1.2723 - val_mae: 1.0612\n",
            "Epoch 39/50\n",
            "219/219 [==============================] - 1s 5ms/step - loss: 0.3896 - mse: 0.3896 - mae: 0.4949 - val_loss: 1.3518 - val_mse: 1.3518 - val_mae: 1.0594\n",
            "Epoch 40/50\n",
            "219/219 [==============================] - 1s 5ms/step - loss: 0.3110 - mse: 0.3110 - mae: 0.4383 - val_loss: 0.7268 - val_mse: 0.7268 - val_mae: 0.7826\n",
            "Epoch 41/50\n",
            "219/219 [==============================] - 1s 5ms/step - loss: 0.3950 - mse: 0.3950 - mae: 0.4699 - val_loss: 0.1397 - val_mse: 0.1397 - val_mae: 0.3018\n",
            "Epoch 42/50\n",
            "219/219 [==============================] - 1s 5ms/step - loss: 0.3053 - mse: 0.3053 - mae: 0.4296 - val_loss: 0.1169 - val_mse: 0.1169 - val_mae: 0.2762\n",
            "Epoch 43/50\n",
            "219/219 [==============================] - 1s 5ms/step - loss: 0.3606 - mse: 0.3606 - mae: 0.4852 - val_loss: 0.0953 - val_mse: 0.0953 - val_mae: 0.2587\n",
            "Epoch 44/50\n",
            "219/219 [==============================] - 1s 5ms/step - loss: 0.2914 - mse: 0.2914 - mae: 0.4311 - val_loss: 0.3760 - val_mse: 0.3760 - val_mae: 0.5306\n",
            "Epoch 45/50\n",
            "219/219 [==============================] - 1s 5ms/step - loss: 0.4896 - mse: 0.4896 - mae: 0.5133 - val_loss: 0.2199 - val_mse: 0.2199 - val_mae: 0.3862\n",
            "Epoch 46/50\n",
            "219/219 [==============================] - 1s 5ms/step - loss: 0.1681 - mse: 0.1681 - mae: 0.3261 - val_loss: 0.1450 - val_mse: 0.1450 - val_mae: 0.3092\n",
            "Epoch 47/50\n",
            "219/219 [==============================] - 1s 5ms/step - loss: 0.3328 - mse: 0.3328 - mae: 0.4603 - val_loss: 0.1568 - val_mse: 0.1568 - val_mae: 0.3174\n",
            "Epoch 48/50\n",
            "219/219 [==============================] - 1s 5ms/step - loss: 0.2591 - mse: 0.2591 - mae: 0.4056 - val_loss: 0.1211 - val_mse: 0.1211 - val_mae: 0.2834\n",
            "Epoch 49/50\n",
            "219/219 [==============================] - 1s 5ms/step - loss: 0.3294 - mse: 0.3294 - mae: 0.4546 - val_loss: 0.1968 - val_mse: 0.1968 - val_mae: 0.3605\n",
            "Epoch 50/50\n",
            "219/219 [==============================] - 1s 5ms/step - loss: 0.2861 - mse: 0.2861 - mae: 0.4207 - val_loss: 0.1229 - val_mse: 0.1229 - val_mae: 0.2883\n"
          ]
        }
      ]
    },
    {
      "cell_type": "code",
      "source": [
        "def plot_history(history, key):\n",
        "  plt.plot(history.history[key])\n",
        "  plt.plot(history.history['val_'+key])\n",
        "  plt.xlabel(\"Epochs\")\n",
        "  plt.ylabel(key)\n",
        "  plt.legend([key, 'val_'+key])\n",
        "  plt.show()\n",
        "# Plot the history\n",
        "plot_history(history, 'loss')"
      ],
      "metadata": {
        "id": "SROhuhpoiPy5",
        "colab": {
          "base_uri": "https://localhost:8080/",
          "height": 279
        },
        "outputId": "54e36422-c651-4abd-864e-dc21e6da366f"
      },
      "execution_count": null,
      "outputs": [
        {
          "output_type": "display_data",
          "data": {
            "text/plain": [
              "<Figure size 432x288 with 1 Axes>"
            ],
            "image/png": "[encoded data removed]"
          },
          "metadata": {
            "needs_background": "light"
          }
        }
      ]
    },
    {
      "cell_type": "code",
      "source": [
        "z= model.predict(X_test)\n",
        "mse = metrics.mean_squared_error(y_test, z)\n",
        "rmse = mse**.5\n",
        "print(\"errors for neural net\")\n",
        "print(\"mse : \",mse)\n",
        "print(\"rmse : \",rmse)\n",
        "mae = metrics.mean_absolute_error(y_test, z)\n",
        "print(\"mae : \",mae)\n"
      ],
      "metadata": {
        "id": "E1aGjWQxmaJU",
        "colab": {
          "base_uri": "https://localhost:8080/"
        },
        "outputId": "ecc23b30-baf3-4ffd-c186-c9d8052d1e84"
      },
      "execution_count": null,
      "outputs": [
        {
          "output_type": "stream",
          "name": "stdout",
          "text": [
            "1094/1094 [==============================] - 2s 2ms/step\n",
            "errors for neural net\n",
            "mse :  0.11972676657978198\n",
            "rmse :  0.34601555829150515\n",
            "mae :  0.283931059508911\n"
          ]
        }
      ]
    },
    {
      "cell_type": "code",
      "source": [],
      "metadata": {
        "id": "4pasHvmPMr1i"
      },
      "execution_count": null,
      "outputs": []
    }
  ]
}